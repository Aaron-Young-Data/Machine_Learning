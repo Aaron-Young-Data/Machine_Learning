{
 "cells": [
  {
   "cell_type": "code",
   "execution_count": null,
   "id": "2e05262e-0fd0-435a-9214-9e7e630e3615",
   "metadata": {},
   "outputs": [],
   "source": [
    "from dotenv import load_dotenv\n",
    "from functions.MySQL_io import MySQLConnection\n",
    "import os\n",
    "import pandas as pd\n",
    "import matplotlib.pyplot as plt\n",
    "import seaborn as sns\n",
    "import numpy as np"
   ]
  },
  {
   "cell_type": "code",
   "execution_count": null,
   "id": "f92a39d4-8355-4b49-bc2a-34ea1b974e39",
   "metadata": {},
   "outputs": [],
   "source": [
    "import tensorflow as tf\n",
    "from tensorflow import keras\n",
    "from tensorflow.keras import layers"
   ]
  },
  {
   "cell_type": "code",
   "execution_count": null,
   "id": "975a7495-21ee-4442-adbe-3f19ce9c1e49",
   "metadata": {},
   "outputs": [],
   "source": [
    "load_dotenv()\n",
    "\n",
    "user = os.getenv('SQL_USER')\n",
    "password = os.getenv('SQL_PASSWORD')\n",
    "database = os.getenv('DATABASE')\n",
    "port = os.getenv('SQL_PORT')\n",
    "server = os.getenv('SQL_SERVER')"
   ]
  },
  {
   "cell_type": "code",
   "execution_count": null,
   "id": "b44b212c-b04d-471f-ab24-72ff4dacddcd",
   "metadata": {},
   "outputs": [],
   "source": [
    "con = MySQLConnection(port, database, user, password, server)\n",
    "\n",
    "lap_data = con.run_query(query='''\n",
    "    SELECT\n",
    "        IFNULL(LapTimeFP1, 0) AS LapTimeFP1,\n",
    "        IFNULL(CompoundFP1, 0) AS CompoundFP1,\n",
    "        IFNULL(AirTempFP1, 0) AS AirTempFP1,\n",
    "        IFNULL(RainfallFP1, 0) AS RainfallFP1,\n",
    "        IFNULL(TrackTempFP1, 0) AS TrackTempFP1,\n",
    "        CASE WHEN isnull(LapTimeFP1) THEN 1 ELSE 0 END AS FP1_Missing_Flag,\n",
    "        IFNULL(LapTimeFP2, 0) AS LapTimeFP2,\n",
    "        IFNULL(CompoundFP2, 0) AS CompoundFP2,\n",
    "        IFNULL(AirTempFP2, 0) AS AirTempFP2,\n",
    "        IFNULL(RainfallFP2, 0) AS RainfallFP2,\n",
    "        IFNULL(TrackTempFP2, 0) AS TrackTempFP2,\n",
    "        CASE WHEN year <= 2022 THEN CASE WHEN isnull(LapTimeFP2) THEN 1 ELSE 0 END ELSE 0 END FP2_Missing_Flag,\n",
    "        IFNULL(LapTimeFP3, 0) AS LapTimeFP3,\n",
    "        IFNULL(CompoundFP3, 0) AS CompoundFP3,\n",
    "        IFNULL(AirTempFP3, 0) AS AirTempFP3,\n",
    "        IFNULL(RainfallFP3, 0) AS RainfallFP3,\n",
    "        IFNULL(TrackTempFP3, 0) AS TrackTempFP3,\n",
    "        0 AS FP3_Missing_Flag,\n",
    "        LapTimeQ,\n",
    "        AirTempQ,\n",
    "        RainfallQ,\n",
    "        sprint_flag as is_sprint,\n",
    "        traction,\n",
    "        tyre_stress,\n",
    "        asphalt_grip,\n",
    "        braking,\n",
    "        asphalt_abrasion,\n",
    "        lateral_force,\n",
    "        track_evolution,\n",
    "        downforce\n",
    "    FROM cleaned_session_data\n",
    "    where sprint_flag = 1 and\n",
    "    LapTimeQ is not NULL\n",
    "    UNION ALL\n",
    "    SELECT\n",
    "        IFNULL(LapTimeFP1, 0) AS LapTimeFP1,\n",
    "        IFNULL(CompoundFP1, 0) AS CompoundFP1,\n",
    "        IFNULL(AirTempFP1, 0) AS AirTempFP1,\n",
    "        IFNULL(RainfallFP1, 0) AS RainfallFP1,\n",
    "        IFNULL(TrackTempFP1, 0) AS TrackTempFP1,\n",
    "        CASE WHEN isnull(LapTimeFP1) THEN 1 ELSE 0 END AS FP1_Missing_Flag,\n",
    "        IFNULL(LapTimeFP2, 0) AS LapTimeFP2,\n",
    "        IFNULL(CompoundFP2, 0) AS CompoundFP2,\n",
    "        IFNULL(AirTempFP2, 0) AS AirTempFP2,\n",
    "        IFNULL(RainfallFP2, 0) AS RainfallFP2,\n",
    "        IFNULL(TrackTempFP2, 0) AS TrackTempFP2,\n",
    "        CASE WHEN isnull(LapTimeFP2) THEN 1 ELSE 0 END AS FP2_Missing_Flag,\n",
    "        IFNULL(LapTimeFP3, 0) AS LapTimeFP3,\n",
    "        IFNULL(CompoundFP3, 0) AS CompoundFP3,\n",
    "        IFNULL(AirTempFP3, 0) AS AirTempFP3,\n",
    "        IFNULL(RainfallFP3, 0) AS RainfallFP3,\n",
    "        IFNULL(TrackTempFP3, 0) AS TrackTempFP3,\n",
    "        CASE WHEN isnull(LapTimeFP3) THEN 1 ELSE 0 END AS FP3_Missing_Flag,\n",
    "        LapTimeQ,\n",
    "        AirTempQ,\n",
    "        RainfallQ,\n",
    "        sprint_flag as is_sprint,\n",
    "        traction,\n",
    "        tyre_stress,\n",
    "        asphalt_grip,\n",
    "        braking,\n",
    "        asphalt_abrasion,\n",
    "        lateral_force,\n",
    "        track_evolution,\n",
    "        downforce\n",
    "    FROM cleaned_session_data\n",
    "    where sprint_flag = 0 and\n",
    "    LapTimeQ is not NULL \n",
    "    ''')"
   ]
  },
  {
   "cell_type": "markdown",
   "id": "17bc7b0e-ceca-4347-88f3-8e2d9e40f0c9",
   "metadata": {},
   "source": [
    "# Data Cleaning"
   ]
  },
  {
   "cell_type": "code",
   "execution_count": null,
   "id": "3ea3be2b-d618-4f49-8522-3377ac543fb9",
   "metadata": {},
   "outputs": [],
   "source": [
    "lap_data = lap_data.astype(float)"
   ]
  },
  {
   "cell_type": "code",
   "execution_count": null,
   "id": "7bcb93a8-e8b2-43c0-af8a-0b3d9de82c45",
   "metadata": {},
   "outputs": [],
   "source": [
    "lap_data.count()"
   ]
  },
  {
   "cell_type": "code",
   "execution_count": null,
   "id": "1f3531fa-48a7-4419-8d2c-3e1f3a6d3dd9",
   "metadata": {},
   "outputs": [],
   "source": [
    "lap_data.head()"
   ]
  },
  {
   "cell_type": "code",
   "execution_count": null,
   "id": "179808be-40d1-4fba-adfd-dd8aabc5c068",
   "metadata": {},
   "outputs": [],
   "source": [
    "lap_data.isna().sum()"
   ]
  },
  {
   "cell_type": "markdown",
   "id": "53c3f781-723e-4750-8711-2c0e7841530c",
   "metadata": {},
   "source": [
    "### Test Train Split (80 - 20)"
   ]
  },
  {
   "cell_type": "code",
   "execution_count": null,
   "id": "fea364c0-3a46-41af-b12c-7f24980ffc35",
   "metadata": {},
   "outputs": [],
   "source": [
    "train_data = lap_data.sample(frac=0.8, random_state=0)\n",
    "test_data = lap_data.drop(train_data.index)"
   ]
  },
  {
   "cell_type": "markdown",
   "id": "e03a58b8-1d59-4e83-98d4-78f6ea8ff905",
   "metadata": {},
   "source": [
    "# Data Exploration"
   ]
  },
  {
   "cell_type": "code",
   "execution_count": null,
   "id": "91de0d09-08a0-4ce9-96b9-015df5f9328d",
   "metadata": {},
   "outputs": [],
   "source": [
    "sns.pairplot(train_data[['LapTimeFP1', 'LapTimeFP2', 'LapTimeFP3', 'LapTimeQ']], diag_kind='kde')"
   ]
  },
  {
   "cell_type": "code",
   "execution_count": null,
   "id": "287ec33d-543d-4093-85b3-7db63fd9aeb6",
   "metadata": {},
   "outputs": [],
   "source": [
    "train_data.describe().transpose()"
   ]
  },
  {
   "cell_type": "markdown",
   "id": "1eeb99ef-1773-43c6-8040-4b6dafb5cf55",
   "metadata": {},
   "source": [
    "# Model Prep"
   ]
  },
  {
   "cell_type": "code",
   "execution_count": null,
   "id": "342774e0-85c0-49b3-9934-d5bc5644638d",
   "metadata": {},
   "outputs": [],
   "source": [
    "train_features = train_data.copy()\n",
    "test_features = test_data.copy()\n",
    "\n",
    "train_labels = train_features.pop('LapTimeQ')\n",
    "test_labels = test_features.pop('LapTimeQ')"
   ]
  },
  {
   "cell_type": "markdown",
   "id": "f745728c-9fd9-499d-abbb-69926070dcf2",
   "metadata": {},
   "source": [
    "### Normalization"
   ]
  },
  {
   "cell_type": "code",
   "execution_count": null,
   "id": "53becf47-1a77-4c92-8ebb-97a0565eeaef",
   "metadata": {},
   "outputs": [],
   "source": [
    "normalizer = tf.keras.layers.Normalization(axis=-1)"
   ]
  },
  {
   "cell_type": "code",
   "execution_count": null,
   "id": "d38fea7a-9367-4885-8d5f-e62bdc0900cc",
   "metadata": {},
   "outputs": [],
   "source": [
    "normalizer.adapt(np.array(train_features))"
   ]
  },
  {
   "cell_type": "code",
   "execution_count": null,
   "id": "8f75c613-f974-4263-ad11-06bc37bf2d9b",
   "metadata": {},
   "outputs": [],
   "source": [
    "normalizer.mean.numpy()"
   ]
  },
  {
   "cell_type": "markdown",
   "id": "09ea564a-3332-4a87-b3e5-76e4db393b5d",
   "metadata": {},
   "source": [
    "# Linear Model"
   ]
  },
  {
   "cell_type": "code",
   "execution_count": null,
   "id": "69eb4f90-dc38-4bce-bf48-24b2bb6be267",
   "metadata": {},
   "outputs": [],
   "source": [
    "linear_model = tf.keras.Sequential([\n",
    "    normalizer,\n",
    "    layers.Dense(units=1)\n",
    "])"
   ]
  },
  {
   "cell_type": "code",
   "execution_count": null,
   "id": "0143360c-97e3-4e1d-8619-6069d05eeb20",
   "metadata": {},
   "outputs": [],
   "source": [
    "linear_model.compile(\n",
    "    optimizer=tf.keras.optimizers.Adam(learning_rate=0.1),\n",
    "    loss='mean_absolute_error')"
   ]
  },
  {
   "cell_type": "code",
   "execution_count": null,
   "id": "13a3d426-fcf2-4bdf-a15a-1c19ec0d666f",
   "metadata": {},
   "outputs": [],
   "source": [
    "history = linear_model.fit(\n",
    "    train_features,\n",
    "    train_labels,\n",
    "    epochs=100,\n",
    "    # Suppress logging.\n",
    "    verbose=0,\n",
    "    # Calculate validation results on 20% of the training data.\n",
    "    validation_split = 0.2)"
   ]
  },
  {
   "cell_type": "code",
   "execution_count": null,
   "id": "dc3ad72b-0e57-458b-a48d-e60ac3de7e9c",
   "metadata": {},
   "outputs": [],
   "source": [
    "plt.plot(history.history['loss'], label='loss')\n",
    "plt.plot(history.history['val_loss'], label='val_loss')\n",
    "plt.ylim([0, 10])\n",
    "plt.xlabel('Epoch')\n",
    "plt.ylabel('Error [LapTimeQ]')\n",
    "plt.legend()\n",
    "plt.grid(True)"
   ]
  },
  {
   "cell_type": "code",
   "execution_count": null,
   "id": "aeff7289-b040-4739-ac53-b8aef06872ac",
   "metadata": {},
   "outputs": [],
   "source": [
    "linear_model.summary()"
   ]
  },
  {
   "cell_type": "markdown",
   "id": "fefcb629-e15e-4ca2-bf71-ad07e7689f52",
   "metadata": {},
   "source": [
    "### Save Results"
   ]
  },
  {
   "cell_type": "code",
   "execution_count": null,
   "id": "0fafb09b-4b5e-4cfc-8f2e-ddd6c86f3ce9",
   "metadata": {},
   "outputs": [],
   "source": [
    "test_results = pd.DataFrame()\n",
    "\n",
    "test_results['linear_model'] = linear_model.evaluate(\n",
    "    test_features, test_labels, verbose=0)"
   ]
  },
  {
   "cell_type": "code",
   "execution_count": null,
   "id": "3dfcabd9-d1ff-4554-8e6b-879f9624fc6a",
   "metadata": {},
   "outputs": [],
   "source": [
    "test_results.to_csv('linear_model.csv')"
   ]
  },
  {
   "cell_type": "code",
   "execution_count": null,
   "id": "df6e8152-4cc0-4d5f-90bf-ac7f38a2880b",
   "metadata": {},
   "outputs": [],
   "source": [
    "linear_model.save('linar_model.keras')"
   ]
  },
  {
   "cell_type": "markdown",
   "id": "02e2f2e4-2c30-4b19-9257-17757326ba9c",
   "metadata": {},
   "source": [
    "### Evaluation"
   ]
  },
  {
   "cell_type": "code",
   "execution_count": null,
   "id": "970c8bfa-c9f6-4271-85af-15835494ab5f",
   "metadata": {},
   "outputs": [],
   "source": [
    "test_predictions = linear_model.predict(test_features).flatten()\n",
    "\n",
    "a = plt.axes(aspect='equal')\n",
    "plt.scatter(test_labels, test_predictions)\n",
    "plt.xlabel('True Values [LapTimeQ]')\n",
    "plt.ylabel('Predictions [LapTimeQ]')\n",
    "lims = [0, 150]\n",
    "plt.xlim(lims)\n",
    "plt.ylim(lims)\n",
    "_ = plt.plot(lims, lims)"
   ]
  },
  {
   "cell_type": "code",
   "execution_count": null,
   "id": "f4b996ba-37af-40fb-a434-9542054ebba4",
   "metadata": {},
   "outputs": [],
   "source": [
    "error = test_predictions - test_labels\n",
    "plt.hist(error, bins=25)\n",
    "plt.xlabel('Prediction Error [LapTimeQ]')\n",
    "_ = plt.ylabel('Count')"
   ]
  }
 ],
 "metadata": {
  "kernelspec": {
   "display_name": "Python 3 (ipykernel)",
   "language": "python",
   "name": "python3"
  },
  "language_info": {
   "codemirror_mode": {
    "name": "ipython",
    "version": 3
   },
   "file_extension": ".py",
   "mimetype": "text/x-python",
   "name": "python",
   "nbconvert_exporter": "python",
   "pygments_lexer": "ipython3",
   "version": "3.11.1"
  }
 },
 "nbformat": 4,
 "nbformat_minor": 5
}
