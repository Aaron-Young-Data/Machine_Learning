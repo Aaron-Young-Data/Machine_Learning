{
 "cells": [
  {
   "cell_type": "code",
   "id": "2e05262e-0fd0-435a-9214-9e7e630e3615",
   "metadata": {
    "ExecuteTime": {
     "end_time": "2024-10-01T16:29:29.724394Z",
     "start_time": "2024-10-01T16:29:29.527155Z"
    }
   },
   "source": [
    "from dotenv import load_dotenv\n",
    "from functions.MySQL_io import MySQLConnection\n",
    "import os\n",
    "import pandas as pd\n",
    "import matplotlib.pyplot as plt\n",
    "import seaborn as sns\n",
    "import numpy as np"
   ],
   "outputs": [],
   "execution_count": 1
  },
  {
   "cell_type": "code",
   "id": "f92a39d4-8355-4b49-bc2a-34ea1b974e39",
   "metadata": {
    "ExecuteTime": {
     "end_time": "2024-10-01T16:29:31.897958Z",
     "start_time": "2024-10-01T16:29:29.724895Z"
    }
   },
   "source": [
    "import tensorflow as tf\n",
    "from tensorflow import keras\n",
    "from tensorflow.keras import layers"
   ],
   "outputs": [],
   "execution_count": 2
  },
  {
   "cell_type": "code",
   "id": "0c0a3096-9e8c-4419-bb23-8971372131d7",
   "metadata": {
    "ExecuteTime": {
     "end_time": "2024-10-01T16:29:31.906502Z",
     "start_time": "2024-10-01T16:29:31.899971Z"
    }
   },
   "source": [
    "tf.config.list_physical_devices()"
   ],
   "outputs": [
    {
     "data": {
      "text/plain": [
       "[PhysicalDevice(name='/physical_device:CPU:0', device_type='CPU')]"
      ]
     },
     "execution_count": 3,
     "metadata": {},
     "output_type": "execute_result"
    }
   ],
   "execution_count": 3
  },
  {
   "cell_type": "code",
   "id": "975a7495-21ee-4442-adbe-3f19ce9c1e49",
   "metadata": {
    "ExecuteTime": {
     "end_time": "2024-10-01T16:29:31.911302Z",
     "start_time": "2024-10-01T16:29:31.907002Z"
    }
   },
   "source": [
    "load_dotenv()\n",
    "\n",
    "user = os.getenv('SQL_USER')\n",
    "password = os.getenv('SQL_PASSWORD')\n",
    "database = os.getenv('DATABASE')\n",
    "port = os.getenv('SQL_PORT')\n",
    "server = os.getenv('SQL_SERVER')"
   ],
   "outputs": [],
   "execution_count": 4
  },
  {
   "cell_type": "code",
   "id": "b44b212c-b04d-471f-ab24-72ff4dacddcd",
   "metadata": {
    "ExecuteTime": {
     "end_time": "2024-10-01T16:29:33.232410Z",
     "start_time": "2024-10-01T16:29:31.911808Z"
    }
   },
   "source": [
    "con = MySQLConnection(port, database, user, password, server)\n",
    "\n",
    "lap_data = con.run_query(query='''\n",
    "    SELECT\n",
    "        IFNULL(LapTimeFP1, 0) AS LapTimeFP1,\n",
    "        IFNULL(CompoundFP1, 0) AS CompoundFP1,\n",
    "        IFNULL(AirTempFP1, 0) AS AirTempFP1,\n",
    "        IFNULL(RainfallFP1, 0) AS RainfallFP1,\n",
    "        IFNULL(TrackTempFP1, 0) AS TrackTempFP1,\n",
    "        CASE WHEN isnull(LapTimeFP1) THEN 1 ELSE 0 END AS FP1_Missing_Flag,\n",
    "        IFNULL(LapTimeFP2, 0) AS LapTimeFP2,\n",
    "        IFNULL(CompoundFP2, 0) AS CompoundFP2,\n",
    "        IFNULL(AirTempFP2, 0) AS AirTempFP2,\n",
    "        IFNULL(RainfallFP2, 0) AS RainfallFP2,\n",
    "        IFNULL(TrackTempFP2, 0) AS TrackTempFP2,\n",
    "        CASE WHEN year <= 2022 THEN CASE WHEN isnull(LapTimeFP2) THEN 1 ELSE 0 END ELSE 0 END FP2_Missing_Flag,\n",
    "        IFNULL(LapTimeFP3, 0) AS LapTimeFP3,\n",
    "        IFNULL(CompoundFP3, 0) AS CompoundFP3,\n",
    "        IFNULL(AirTempFP3, 0) AS AirTempFP3,\n",
    "        IFNULL(RainfallFP3, 0) AS RainfallFP3,\n",
    "        IFNULL(TrackTempFP3, 0) AS TrackTempFP3,\n",
    "        0 AS FP3_Missing_Flag,\n",
    "        LapTimeQ,\n",
    "        AirTempQ,\n",
    "        RainfallQ,\n",
    "        sprint_flag as is_sprint,\n",
    "        traction,\n",
    "        tyre_stress,\n",
    "        asphalt_grip,\n",
    "        braking,\n",
    "        asphalt_abrasion,\n",
    "        lateral_force,\n",
    "        track_evolution,\n",
    "        downforce\n",
    "    FROM cleaned_session_data\n",
    "    where sprint_flag = 1 and\n",
    "    LapTimeQ is not NULL and\n",
    "    event_cd = 18 and year = 2024\n",
    "    UNION ALL\n",
    "    SELECT\n",
    "        IFNULL(LapTimeFP1, 0) AS LapTimeFP1,\n",
    "        IFNULL(CompoundFP1, 0) AS CompoundFP1,\n",
    "        IFNULL(AirTempFP1, 0) AS AirTempFP1,\n",
    "        IFNULL(RainfallFP1, 0) AS RainfallFP1,\n",
    "        IFNULL(TrackTempFP1, 0) AS TrackTempFP1,\n",
    "        CASE WHEN isnull(LapTimeFP1) THEN 1 ELSE 0 END AS FP1_Missing_Flag,\n",
    "        IFNULL(LapTimeFP2, 0) AS LapTimeFP2,\n",
    "        IFNULL(CompoundFP2, 0) AS CompoundFP2,\n",
    "        IFNULL(AirTempFP2, 0) AS AirTempFP2,\n",
    "        IFNULL(RainfallFP2, 0) AS RainfallFP2,\n",
    "        IFNULL(TrackTempFP2, 0) AS TrackTempFP2,\n",
    "        CASE WHEN isnull(LapTimeFP2) THEN 1 ELSE 0 END AS FP2_Missing_Flag,\n",
    "        IFNULL(LapTimeFP3, 0) AS LapTimeFP3,\n",
    "        IFNULL(CompoundFP3, 0) AS CompoundFP3,\n",
    "        IFNULL(AirTempFP3, 0) AS AirTempFP3,\n",
    "        IFNULL(RainfallFP3, 0) AS RainfallFP3,\n",
    "        IFNULL(TrackTempFP3, 0) AS TrackTempFP3,\n",
    "        CASE WHEN isnull(LapTimeFP3) THEN 1 ELSE 0 END AS FP3_Missing_Flag,\n",
    "        LapTimeQ,\n",
    "        AirTempQ,\n",
    "        RainfallQ,\n",
    "        sprint_flag as is_sprint,\n",
    "        traction,\n",
    "        tyre_stress,\n",
    "        asphalt_grip,\n",
    "        braking,\n",
    "        asphalt_abrasion,\n",
    "        lateral_force,\n",
    "        track_evolution,\n",
    "        downforce\n",
    "    FROM cleaned_session_data\n",
    "    where sprint_flag = 0 and\n",
    "    LapTimeQ is not NULL and\n",
    "    concat(year, event_cd) != 202418\n",
    "    ''')\n",
    "\n",
    "con.close_connection()"
   ],
   "outputs": [
    {
     "ename": "ProgrammingError",
     "evalue": "(mysql.connector.errors.ProgrammingError) 1054 (42S22): Unknown column 'LapTimeFP1' in 'field list'\n[SQL: \n    SELECT\n        IFNULL(LapTimeFP1, 0) AS LapTimeFP1,\n        IFNULL(CompoundFP1, 0) AS CompoundFP1,\n        IFNULL(AirTempFP1, 0) AS AirTempFP1,\n        IFNULL(RainfallFP1, 0) AS RainfallFP1,\n        IFNULL(TrackTempFP1, 0) AS TrackTempFP1,\n        CASE WHEN isnull(LapTimeFP1) THEN 1 ELSE 0 END AS FP1_Missing_Flag,\n        IFNULL(LapTimeFP2, 0) AS LapTimeFP2,\n        IFNULL(CompoundFP2, 0) AS CompoundFP2,\n        IFNULL(AirTempFP2, 0) AS AirTempFP2,\n        IFNULL(RainfallFP2, 0) AS RainfallFP2,\n        IFNULL(TrackTempFP2, 0) AS TrackTempFP2,\n        CASE WHEN year <= 2022 THEN CASE WHEN isnull(LapTimeFP2) THEN 1 ELSE 0 END ELSE 0 END FP2_Missing_Flag,\n        IFNULL(LapTimeFP3, 0) AS LapTimeFP3,\n        IFNULL(CompoundFP3, 0) AS CompoundFP3,\n        IFNULL(AirTempFP3, 0) AS AirTempFP3,\n        IFNULL(RainfallFP3, 0) AS RainfallFP3,\n        IFNULL(TrackTempFP3, 0) AS TrackTempFP3,\n        0 AS FP3_Missing_Flag,\n        LapTimeQ,\n        AirTempQ,\n        RainfallQ,\n        sprint_flag as is_sprint,\n        traction,\n        tyre_stress,\n        asphalt_grip,\n        braking,\n        asphalt_abrasion,\n        lateral_force,\n        track_evolution,\n        downforce\n    FROM cleaned_session_data\n    where sprint_flag = 1 and\n    LapTimeQ is not NULL and\n    event_cd = 18 and year = 2024\n    UNION ALL\n    SELECT\n        IFNULL(LapTimeFP1, 0) AS LapTimeFP1,\n        IFNULL(CompoundFP1, 0) AS CompoundFP1,\n        IFNULL(AirTempFP1, 0) AS AirTempFP1,\n        IFNULL(RainfallFP1, 0) AS RainfallFP1,\n        IFNULL(TrackTempFP1, 0) AS TrackTempFP1,\n        CASE WHEN isnull(LapTimeFP1) THEN 1 ELSE 0 END AS FP1_Missing_Flag,\n        IFNULL(LapTimeFP2, 0) AS LapTimeFP2,\n        IFNULL(CompoundFP2, 0) AS CompoundFP2,\n        IFNULL(AirTempFP2, 0) AS AirTempFP2,\n        IFNULL(RainfallFP2, 0) AS RainfallFP2,\n        IFNULL(TrackTempFP2, 0) AS TrackTempFP2,\n        CASE WHEN isnull(LapTimeFP2) THEN 1 ELSE 0 END AS FP2_Missing_Flag,\n        IFNULL(LapTimeFP3, 0) AS LapTimeFP3,\n        IFNULL(CompoundFP3, 0) AS CompoundFP3,\n        IFNULL(AirTempFP3, 0) AS AirTempFP3,\n        IFNULL(RainfallFP3, 0) AS RainfallFP3,\n        IFNULL(TrackTempFP3, 0) AS TrackTempFP3,\n        CASE WHEN isnull(LapTimeFP3) THEN 1 ELSE 0 END AS FP3_Missing_Flag,\n        LapTimeQ,\n        AirTempQ,\n        RainfallQ,\n        sprint_flag as is_sprint,\n        traction,\n        tyre_stress,\n        asphalt_grip,\n        braking,\n        asphalt_abrasion,\n        lateral_force,\n        track_evolution,\n        downforce\n    FROM cleaned_session_data\n    where sprint_flag = 0 and\n    LapTimeQ is not NULL and\n    concat(year, event_cd) != 202418\n    ]\n(Background on this error at: https://sqlalche.me/e/20/f405)",
     "output_type": "error",
     "traceback": [
      "\u001B[1;31m---------------------------------------------------------------------------\u001B[0m",
      "\u001B[1;31mMySQLInterfaceError\u001B[0m                       Traceback (most recent call last)",
      "File \u001B[1;32m~\\PycharmProjects\\Machine_Learning\\venv\\Lib\\site-packages\\mysql\\connector\\connection_cext.py:697\u001B[0m, in \u001B[0;36mCMySQLConnection.cmd_query\u001B[1;34m(self, query, raw, buffered, raw_as_string)\u001B[0m\n\u001B[0;32m    696\u001B[0m         query \u001B[38;5;241m=\u001B[39m query\u001B[38;5;241m.\u001B[39mencode(\u001B[38;5;124m\"\u001B[39m\u001B[38;5;124mutf-8\u001B[39m\u001B[38;5;124m\"\u001B[39m)\n\u001B[1;32m--> 697\u001B[0m     \u001B[38;5;28;43mself\u001B[39;49m\u001B[38;5;241;43m.\u001B[39;49m\u001B[43m_cmysql\u001B[49m\u001B[38;5;241;43m.\u001B[39;49m\u001B[43mquery\u001B[49m\u001B[43m(\u001B[49m\n\u001B[0;32m    698\u001B[0m \u001B[43m        \u001B[49m\u001B[43mquery\u001B[49m\u001B[43m,\u001B[49m\n\u001B[0;32m    699\u001B[0m \u001B[43m        \u001B[49m\u001B[43mraw\u001B[49m\u001B[38;5;241;43m=\u001B[39;49m\u001B[43mraw\u001B[49m\u001B[43m,\u001B[49m\n\u001B[0;32m    700\u001B[0m \u001B[43m        \u001B[49m\u001B[43mbuffered\u001B[49m\u001B[38;5;241;43m=\u001B[39;49m\u001B[43mbuffered\u001B[49m\u001B[43m,\u001B[49m\n\u001B[0;32m    701\u001B[0m \u001B[43m        \u001B[49m\u001B[43mraw_as_string\u001B[49m\u001B[38;5;241;43m=\u001B[39;49m\u001B[43mraw_as_string\u001B[49m\u001B[43m,\u001B[49m\n\u001B[0;32m    702\u001B[0m \u001B[43m        \u001B[49m\u001B[43mquery_attrs\u001B[49m\u001B[38;5;241;43m=\u001B[39;49m\u001B[38;5;28;43mself\u001B[39;49m\u001B[38;5;241;43m.\u001B[39;49m\u001B[43mquery_attrs\u001B[49m\u001B[43m,\u001B[49m\n\u001B[0;32m    703\u001B[0m \u001B[43m    \u001B[49m\u001B[43m)\u001B[49m\n\u001B[0;32m    704\u001B[0m \u001B[38;5;28;01mexcept\u001B[39;00m MySQLInterfaceError \u001B[38;5;28;01mas\u001B[39;00m err:\n",
      "\u001B[1;31mMySQLInterfaceError\u001B[0m: Unknown column 'LapTimeFP1' in 'field list'",
      "\nThe above exception was the direct cause of the following exception:\n",
      "\u001B[1;31mProgrammingError\u001B[0m                          Traceback (most recent call last)",
      "File \u001B[1;32m~\\PycharmProjects\\Machine_Learning\\venv\\Lib\\site-packages\\sqlalchemy\\engine\\base.py:1967\u001B[0m, in \u001B[0;36mConnection._exec_single_context\u001B[1;34m(self, dialect, context, statement, parameters)\u001B[0m\n\u001B[0;32m   1966\u001B[0m     \u001B[38;5;28;01mif\u001B[39;00m \u001B[38;5;129;01mnot\u001B[39;00m evt_handled:\n\u001B[1;32m-> 1967\u001B[0m         \u001B[38;5;28;43mself\u001B[39;49m\u001B[38;5;241;43m.\u001B[39;49m\u001B[43mdialect\u001B[49m\u001B[38;5;241;43m.\u001B[39;49m\u001B[43mdo_execute\u001B[49m\u001B[43m(\u001B[49m\n\u001B[0;32m   1968\u001B[0m \u001B[43m            \u001B[49m\u001B[43mcursor\u001B[49m\u001B[43m,\u001B[49m\u001B[43m \u001B[49m\u001B[43mstr_statement\u001B[49m\u001B[43m,\u001B[49m\u001B[43m \u001B[49m\u001B[43meffective_parameters\u001B[49m\u001B[43m,\u001B[49m\u001B[43m \u001B[49m\u001B[43mcontext\u001B[49m\n\u001B[0;32m   1969\u001B[0m \u001B[43m        \u001B[49m\u001B[43m)\u001B[49m\n\u001B[0;32m   1971\u001B[0m \u001B[38;5;28;01mif\u001B[39;00m \u001B[38;5;28mself\u001B[39m\u001B[38;5;241m.\u001B[39m_has_events \u001B[38;5;129;01mor\u001B[39;00m \u001B[38;5;28mself\u001B[39m\u001B[38;5;241m.\u001B[39mengine\u001B[38;5;241m.\u001B[39m_has_events:\n",
      "File \u001B[1;32m~\\PycharmProjects\\Machine_Learning\\venv\\Lib\\site-packages\\sqlalchemy\\engine\\default.py:924\u001B[0m, in \u001B[0;36mDefaultDialect.do_execute\u001B[1;34m(self, cursor, statement, parameters, context)\u001B[0m\n\u001B[0;32m    923\u001B[0m \u001B[38;5;28;01mdef\u001B[39;00m \u001B[38;5;21mdo_execute\u001B[39m(\u001B[38;5;28mself\u001B[39m, cursor, statement, parameters, context\u001B[38;5;241m=\u001B[39m\u001B[38;5;28;01mNone\u001B[39;00m):\n\u001B[1;32m--> 924\u001B[0m     \u001B[43mcursor\u001B[49m\u001B[38;5;241;43m.\u001B[39;49m\u001B[43mexecute\u001B[49m\u001B[43m(\u001B[49m\u001B[43mstatement\u001B[49m\u001B[43m,\u001B[49m\u001B[43m \u001B[49m\u001B[43mparameters\u001B[49m\u001B[43m)\u001B[49m\n",
      "File \u001B[1;32m~\\PycharmProjects\\Machine_Learning\\venv\\Lib\\site-packages\\mysql\\connector\\cursor_cext.py:372\u001B[0m, in \u001B[0;36mCMySQLCursor.execute\u001B[1;34m(self, operation, params, multi)\u001B[0m\n\u001B[0;32m    371\u001B[0m \u001B[38;5;28;01mtry\u001B[39;00m:\n\u001B[1;32m--> 372\u001B[0m     result \u001B[38;5;241m=\u001B[39m \u001B[38;5;28;43mself\u001B[39;49m\u001B[38;5;241;43m.\u001B[39;49m\u001B[43m_cnx\u001B[49m\u001B[38;5;241;43m.\u001B[39;49m\u001B[43mcmd_query\u001B[49m\u001B[43m(\u001B[49m\n\u001B[0;32m    373\u001B[0m \u001B[43m        \u001B[49m\u001B[43mstmt\u001B[49m\u001B[43m,\u001B[49m\n\u001B[0;32m    374\u001B[0m \u001B[43m        \u001B[49m\u001B[43mraw\u001B[49m\u001B[38;5;241;43m=\u001B[39;49m\u001B[38;5;28;43mself\u001B[39;49m\u001B[38;5;241;43m.\u001B[39;49m\u001B[43m_raw\u001B[49m\u001B[43m,\u001B[49m\n\u001B[0;32m    375\u001B[0m \u001B[43m        \u001B[49m\u001B[43mbuffered\u001B[49m\u001B[38;5;241;43m=\u001B[39;49m\u001B[38;5;28;43mself\u001B[39;49m\u001B[38;5;241;43m.\u001B[39;49m\u001B[43m_buffered\u001B[49m\u001B[43m,\u001B[49m\n\u001B[0;32m    376\u001B[0m \u001B[43m        \u001B[49m\u001B[43mraw_as_string\u001B[49m\u001B[38;5;241;43m=\u001B[39;49m\u001B[38;5;28;43mself\u001B[39;49m\u001B[38;5;241;43m.\u001B[39;49m\u001B[43m_raw_as_string\u001B[49m\u001B[43m,\u001B[49m\n\u001B[0;32m    377\u001B[0m \u001B[43m    \u001B[49m\u001B[43m)\u001B[49m\n\u001B[0;32m    378\u001B[0m \u001B[38;5;28;01mexcept\u001B[39;00m MySQLInterfaceError \u001B[38;5;28;01mas\u001B[39;00m err:\n",
      "File \u001B[1;32m~\\PycharmProjects\\Machine_Learning\\venv\\Lib\\site-packages\\mysql\\connector\\opentelemetry\\context_propagation.py:102\u001B[0m, in \u001B[0;36mwith_context_propagation.<locals>.wrapper\u001B[1;34m(cnx, *args, **kwargs)\u001B[0m\n\u001B[0;32m    101\u001B[0m \u001B[38;5;28;01mif\u001B[39;00m \u001B[38;5;129;01mnot\u001B[39;00m OTEL_ENABLED \u001B[38;5;129;01mor\u001B[39;00m \u001B[38;5;129;01mnot\u001B[39;00m cnx\u001B[38;5;241m.\u001B[39motel_context_propagation:\n\u001B[1;32m--> 102\u001B[0m     \u001B[38;5;28;01mreturn\u001B[39;00m \u001B[43mmethod\u001B[49m\u001B[43m(\u001B[49m\u001B[43mcnx\u001B[49m\u001B[43m,\u001B[49m\u001B[43m \u001B[49m\u001B[38;5;241;43m*\u001B[39;49m\u001B[43margs\u001B[49m\u001B[43m,\u001B[49m\u001B[43m \u001B[49m\u001B[38;5;241;43m*\u001B[39;49m\u001B[38;5;241;43m*\u001B[39;49m\u001B[43mkwargs\u001B[49m\u001B[43m)\u001B[49m\n\u001B[0;32m    104\u001B[0m current_span \u001B[38;5;241m=\u001B[39m trace\u001B[38;5;241m.\u001B[39mget_current_span()\n",
      "File \u001B[1;32m~\\PycharmProjects\\Machine_Learning\\venv\\Lib\\site-packages\\mysql\\connector\\connection_cext.py:705\u001B[0m, in \u001B[0;36mCMySQLConnection.cmd_query\u001B[1;34m(self, query, raw, buffered, raw_as_string)\u001B[0m\n\u001B[0;32m    704\u001B[0m \u001B[38;5;28;01mexcept\u001B[39;00m MySQLInterfaceError \u001B[38;5;28;01mas\u001B[39;00m err:\n\u001B[1;32m--> 705\u001B[0m     \u001B[38;5;28;01mraise\u001B[39;00m get_mysql_exception(\n\u001B[0;32m    706\u001B[0m         err\u001B[38;5;241m.\u001B[39merrno, msg\u001B[38;5;241m=\u001B[39merr\u001B[38;5;241m.\u001B[39mmsg, sqlstate\u001B[38;5;241m=\u001B[39merr\u001B[38;5;241m.\u001B[39msqlstate\n\u001B[0;32m    707\u001B[0m     ) \u001B[38;5;28;01mfrom\u001B[39;00m \u001B[38;5;21;01merr\u001B[39;00m\n\u001B[0;32m    708\u001B[0m \u001B[38;5;28;01mexcept\u001B[39;00m \u001B[38;5;167;01mAttributeError\u001B[39;00m \u001B[38;5;28;01mas\u001B[39;00m err:\n",
      "\u001B[1;31mProgrammingError\u001B[0m: 1054 (42S22): Unknown column 'LapTimeFP1' in 'field list'",
      "\nThe above exception was the direct cause of the following exception:\n",
      "\u001B[1;31mProgrammingError\u001B[0m                          Traceback (most recent call last)",
      "Cell \u001B[1;32mIn[5], line 3\u001B[0m\n\u001B[0;32m      1\u001B[0m con \u001B[38;5;241m=\u001B[39m MySQLConnection(port, database, user, password, server)\n\u001B[1;32m----> 3\u001B[0m lap_data \u001B[38;5;241m=\u001B[39m \u001B[43mcon\u001B[49m\u001B[38;5;241;43m.\u001B[39;49m\u001B[43mrun_query\u001B[49m\u001B[43m(\u001B[49m\u001B[43mquery\u001B[49m\u001B[38;5;241;43m=\u001B[39;49m\u001B[38;5;124;43m'''\u001B[39;49m\n\u001B[0;32m      4\u001B[0m \u001B[38;5;124;43m    SELECT\u001B[39;49m\n\u001B[0;32m      5\u001B[0m \u001B[38;5;124;43m        IFNULL(LapTimeFP1, 0) AS LapTimeFP1,\u001B[39;49m\n\u001B[0;32m      6\u001B[0m \u001B[38;5;124;43m        IFNULL(CompoundFP1, 0) AS CompoundFP1,\u001B[39;49m\n\u001B[0;32m      7\u001B[0m \u001B[38;5;124;43m        IFNULL(AirTempFP1, 0) AS AirTempFP1,\u001B[39;49m\n\u001B[0;32m      8\u001B[0m \u001B[38;5;124;43m        IFNULL(RainfallFP1, 0) AS RainfallFP1,\u001B[39;49m\n\u001B[0;32m      9\u001B[0m \u001B[38;5;124;43m        IFNULL(TrackTempFP1, 0) AS TrackTempFP1,\u001B[39;49m\n\u001B[0;32m     10\u001B[0m \u001B[38;5;124;43m        CASE WHEN isnull(LapTimeFP1) THEN 1 ELSE 0 END AS FP1_Missing_Flag,\u001B[39;49m\n\u001B[0;32m     11\u001B[0m \u001B[38;5;124;43m        IFNULL(LapTimeFP2, 0) AS LapTimeFP2,\u001B[39;49m\n\u001B[0;32m     12\u001B[0m \u001B[38;5;124;43m        IFNULL(CompoundFP2, 0) AS CompoundFP2,\u001B[39;49m\n\u001B[0;32m     13\u001B[0m \u001B[38;5;124;43m        IFNULL(AirTempFP2, 0) AS AirTempFP2,\u001B[39;49m\n\u001B[0;32m     14\u001B[0m \u001B[38;5;124;43m        IFNULL(RainfallFP2, 0) AS RainfallFP2,\u001B[39;49m\n\u001B[0;32m     15\u001B[0m \u001B[38;5;124;43m        IFNULL(TrackTempFP2, 0) AS TrackTempFP2,\u001B[39;49m\n\u001B[0;32m     16\u001B[0m \u001B[38;5;124;43m        CASE WHEN year <= 2022 THEN CASE WHEN isnull(LapTimeFP2) THEN 1 ELSE 0 END ELSE 0 END FP2_Missing_Flag,\u001B[39;49m\n\u001B[0;32m     17\u001B[0m \u001B[38;5;124;43m        IFNULL(LapTimeFP3, 0) AS LapTimeFP3,\u001B[39;49m\n\u001B[0;32m     18\u001B[0m \u001B[38;5;124;43m        IFNULL(CompoundFP3, 0) AS CompoundFP3,\u001B[39;49m\n\u001B[0;32m     19\u001B[0m \u001B[38;5;124;43m        IFNULL(AirTempFP3, 0) AS AirTempFP3,\u001B[39;49m\n\u001B[0;32m     20\u001B[0m \u001B[38;5;124;43m        IFNULL(RainfallFP3, 0) AS RainfallFP3,\u001B[39;49m\n\u001B[0;32m     21\u001B[0m \u001B[38;5;124;43m        IFNULL(TrackTempFP3, 0) AS TrackTempFP3,\u001B[39;49m\n\u001B[0;32m     22\u001B[0m \u001B[38;5;124;43m        0 AS FP3_Missing_Flag,\u001B[39;49m\n\u001B[0;32m     23\u001B[0m \u001B[38;5;124;43m        LapTimeQ,\u001B[39;49m\n\u001B[0;32m     24\u001B[0m \u001B[38;5;124;43m        AirTempQ,\u001B[39;49m\n\u001B[0;32m     25\u001B[0m \u001B[38;5;124;43m        RainfallQ,\u001B[39;49m\n\u001B[0;32m     26\u001B[0m \u001B[38;5;124;43m        sprint_flag as is_sprint,\u001B[39;49m\n\u001B[0;32m     27\u001B[0m \u001B[38;5;124;43m        traction,\u001B[39;49m\n\u001B[0;32m     28\u001B[0m \u001B[38;5;124;43m        tyre_stress,\u001B[39;49m\n\u001B[0;32m     29\u001B[0m \u001B[38;5;124;43m        asphalt_grip,\u001B[39;49m\n\u001B[0;32m     30\u001B[0m \u001B[38;5;124;43m        braking,\u001B[39;49m\n\u001B[0;32m     31\u001B[0m \u001B[38;5;124;43m        asphalt_abrasion,\u001B[39;49m\n\u001B[0;32m     32\u001B[0m \u001B[38;5;124;43m        lateral_force,\u001B[39;49m\n\u001B[0;32m     33\u001B[0m \u001B[38;5;124;43m        track_evolution,\u001B[39;49m\n\u001B[0;32m     34\u001B[0m \u001B[38;5;124;43m        downforce\u001B[39;49m\n\u001B[0;32m     35\u001B[0m \u001B[38;5;124;43m    FROM cleaned_session_data\u001B[39;49m\n\u001B[0;32m     36\u001B[0m \u001B[38;5;124;43m    where sprint_flag = 1 and\u001B[39;49m\n\u001B[0;32m     37\u001B[0m \u001B[38;5;124;43m    LapTimeQ is not NULL and\u001B[39;49m\n\u001B[0;32m     38\u001B[0m \u001B[38;5;124;43m    event_cd = 18 and year = 2024\u001B[39;49m\n\u001B[0;32m     39\u001B[0m \u001B[38;5;124;43m    UNION ALL\u001B[39;49m\n\u001B[0;32m     40\u001B[0m \u001B[38;5;124;43m    SELECT\u001B[39;49m\n\u001B[0;32m     41\u001B[0m \u001B[38;5;124;43m        IFNULL(LapTimeFP1, 0) AS LapTimeFP1,\u001B[39;49m\n\u001B[0;32m     42\u001B[0m \u001B[38;5;124;43m        IFNULL(CompoundFP1, 0) AS CompoundFP1,\u001B[39;49m\n\u001B[0;32m     43\u001B[0m \u001B[38;5;124;43m        IFNULL(AirTempFP1, 0) AS AirTempFP1,\u001B[39;49m\n\u001B[0;32m     44\u001B[0m \u001B[38;5;124;43m        IFNULL(RainfallFP1, 0) AS RainfallFP1,\u001B[39;49m\n\u001B[0;32m     45\u001B[0m \u001B[38;5;124;43m        IFNULL(TrackTempFP1, 0) AS TrackTempFP1,\u001B[39;49m\n\u001B[0;32m     46\u001B[0m \u001B[38;5;124;43m        CASE WHEN isnull(LapTimeFP1) THEN 1 ELSE 0 END AS FP1_Missing_Flag,\u001B[39;49m\n\u001B[0;32m     47\u001B[0m \u001B[38;5;124;43m        IFNULL(LapTimeFP2, 0) AS LapTimeFP2,\u001B[39;49m\n\u001B[0;32m     48\u001B[0m \u001B[38;5;124;43m        IFNULL(CompoundFP2, 0) AS CompoundFP2,\u001B[39;49m\n\u001B[0;32m     49\u001B[0m \u001B[38;5;124;43m        IFNULL(AirTempFP2, 0) AS AirTempFP2,\u001B[39;49m\n\u001B[0;32m     50\u001B[0m \u001B[38;5;124;43m        IFNULL(RainfallFP2, 0) AS RainfallFP2,\u001B[39;49m\n\u001B[0;32m     51\u001B[0m \u001B[38;5;124;43m        IFNULL(TrackTempFP2, 0) AS TrackTempFP2,\u001B[39;49m\n\u001B[0;32m     52\u001B[0m \u001B[38;5;124;43m        CASE WHEN isnull(LapTimeFP2) THEN 1 ELSE 0 END AS FP2_Missing_Flag,\u001B[39;49m\n\u001B[0;32m     53\u001B[0m \u001B[38;5;124;43m        IFNULL(LapTimeFP3, 0) AS LapTimeFP3,\u001B[39;49m\n\u001B[0;32m     54\u001B[0m \u001B[38;5;124;43m        IFNULL(CompoundFP3, 0) AS CompoundFP3,\u001B[39;49m\n\u001B[0;32m     55\u001B[0m \u001B[38;5;124;43m        IFNULL(AirTempFP3, 0) AS AirTempFP3,\u001B[39;49m\n\u001B[0;32m     56\u001B[0m \u001B[38;5;124;43m        IFNULL(RainfallFP3, 0) AS RainfallFP3,\u001B[39;49m\n\u001B[0;32m     57\u001B[0m \u001B[38;5;124;43m        IFNULL(TrackTempFP3, 0) AS TrackTempFP3,\u001B[39;49m\n\u001B[0;32m     58\u001B[0m \u001B[38;5;124;43m        CASE WHEN isnull(LapTimeFP3) THEN 1 ELSE 0 END AS FP3_Missing_Flag,\u001B[39;49m\n\u001B[0;32m     59\u001B[0m \u001B[38;5;124;43m        LapTimeQ,\u001B[39;49m\n\u001B[0;32m     60\u001B[0m \u001B[38;5;124;43m        AirTempQ,\u001B[39;49m\n\u001B[0;32m     61\u001B[0m \u001B[38;5;124;43m        RainfallQ,\u001B[39;49m\n\u001B[0;32m     62\u001B[0m \u001B[38;5;124;43m        sprint_flag as is_sprint,\u001B[39;49m\n\u001B[0;32m     63\u001B[0m \u001B[38;5;124;43m        traction,\u001B[39;49m\n\u001B[0;32m     64\u001B[0m \u001B[38;5;124;43m        tyre_stress,\u001B[39;49m\n\u001B[0;32m     65\u001B[0m \u001B[38;5;124;43m        asphalt_grip,\u001B[39;49m\n\u001B[0;32m     66\u001B[0m \u001B[38;5;124;43m        braking,\u001B[39;49m\n\u001B[0;32m     67\u001B[0m \u001B[38;5;124;43m        asphalt_abrasion,\u001B[39;49m\n\u001B[0;32m     68\u001B[0m \u001B[38;5;124;43m        lateral_force,\u001B[39;49m\n\u001B[0;32m     69\u001B[0m \u001B[38;5;124;43m        track_evolution,\u001B[39;49m\n\u001B[0;32m     70\u001B[0m \u001B[38;5;124;43m        downforce\u001B[39;49m\n\u001B[0;32m     71\u001B[0m \u001B[38;5;124;43m    FROM cleaned_session_data\u001B[39;49m\n\u001B[0;32m     72\u001B[0m \u001B[38;5;124;43m    where sprint_flag = 0 and\u001B[39;49m\n\u001B[0;32m     73\u001B[0m \u001B[38;5;124;43m    LapTimeQ is not NULL and\u001B[39;49m\n\u001B[0;32m     74\u001B[0m \u001B[38;5;124;43m    concat(year, event_cd) != 202418\u001B[39;49m\n\u001B[0;32m     75\u001B[0m \u001B[38;5;124;43m    \u001B[39;49m\u001B[38;5;124;43m'''\u001B[39;49m\u001B[43m)\u001B[49m\n\u001B[0;32m     77\u001B[0m con\u001B[38;5;241m.\u001B[39mclose_connection()\n",
      "File \u001B[1;32m~\\PycharmProjects\\Machine_Learning\\functions\\MySQL_io.py:27\u001B[0m, in \u001B[0;36mMySQLConnection.run_query\u001B[1;34m(self, query)\u001B[0m\n\u001B[0;32m     25\u001B[0m \u001B[38;5;28;01mdef\u001B[39;00m \u001B[38;5;21mrun_query\u001B[39m(\u001B[38;5;28mself\u001B[39m, query):\n\u001B[0;32m     26\u001B[0m     \u001B[38;5;28;01mtry\u001B[39;00m:\n\u001B[1;32m---> 27\u001B[0m         df \u001B[38;5;241m=\u001B[39m \u001B[43mpd\u001B[49m\u001B[38;5;241;43m.\u001B[39;49m\u001B[43mread_sql\u001B[49m\u001B[43m(\u001B[49m\u001B[43mquery\u001B[49m\u001B[43m,\u001B[49m\u001B[43m \u001B[49m\u001B[38;5;28;43mself\u001B[39;49m\u001B[38;5;241;43m.\u001B[39;49m\u001B[43mconn\u001B[49m\u001B[43m)\u001B[49m\n\u001B[0;32m     28\u001B[0m     \u001B[38;5;28;01mexcept\u001B[39;00m pyodbc\u001B[38;5;241m.\u001B[39mProgrammingError \u001B[38;5;28;01mas\u001B[39;00m error:\n\u001B[0;32m     29\u001B[0m         \u001B[38;5;28mprint\u001B[39m(\u001B[38;5;124mf\u001B[39m\u001B[38;5;124m'\u001B[39m\u001B[38;5;124mWarning: \u001B[39m\u001B[38;5;130;01m\\n\u001B[39;00m\u001B[38;5;124m \u001B[39m\u001B[38;5;132;01m{\u001B[39;00merror\u001B[38;5;132;01m}\u001B[39;00m\u001B[38;5;124m'\u001B[39m)\n",
      "File \u001B[1;32m~\\PycharmProjects\\Machine_Learning\\venv\\Lib\\site-packages\\pandas\\io\\sql.py:734\u001B[0m, in \u001B[0;36mread_sql\u001B[1;34m(sql, con, index_col, coerce_float, params, parse_dates, columns, chunksize, dtype_backend, dtype)\u001B[0m\n\u001B[0;32m    724\u001B[0m     \u001B[38;5;28;01mreturn\u001B[39;00m pandas_sql\u001B[38;5;241m.\u001B[39mread_table(\n\u001B[0;32m    725\u001B[0m         sql,\n\u001B[0;32m    726\u001B[0m         index_col\u001B[38;5;241m=\u001B[39mindex_col,\n\u001B[1;32m   (...)\u001B[0m\n\u001B[0;32m    731\u001B[0m         dtype_backend\u001B[38;5;241m=\u001B[39mdtype_backend,\n\u001B[0;32m    732\u001B[0m     )\n\u001B[0;32m    733\u001B[0m \u001B[38;5;28;01melse\u001B[39;00m:\n\u001B[1;32m--> 734\u001B[0m     \u001B[38;5;28;01mreturn\u001B[39;00m \u001B[43mpandas_sql\u001B[49m\u001B[38;5;241;43m.\u001B[39;49m\u001B[43mread_query\u001B[49m\u001B[43m(\u001B[49m\n\u001B[0;32m    735\u001B[0m \u001B[43m        \u001B[49m\u001B[43msql\u001B[49m\u001B[43m,\u001B[49m\n\u001B[0;32m    736\u001B[0m \u001B[43m        \u001B[49m\u001B[43mindex_col\u001B[49m\u001B[38;5;241;43m=\u001B[39;49m\u001B[43mindex_col\u001B[49m\u001B[43m,\u001B[49m\n\u001B[0;32m    737\u001B[0m \u001B[43m        \u001B[49m\u001B[43mparams\u001B[49m\u001B[38;5;241;43m=\u001B[39;49m\u001B[43mparams\u001B[49m\u001B[43m,\u001B[49m\n\u001B[0;32m    738\u001B[0m \u001B[43m        \u001B[49m\u001B[43mcoerce_float\u001B[49m\u001B[38;5;241;43m=\u001B[39;49m\u001B[43mcoerce_float\u001B[49m\u001B[43m,\u001B[49m\n\u001B[0;32m    739\u001B[0m \u001B[43m        \u001B[49m\u001B[43mparse_dates\u001B[49m\u001B[38;5;241;43m=\u001B[39;49m\u001B[43mparse_dates\u001B[49m\u001B[43m,\u001B[49m\n\u001B[0;32m    740\u001B[0m \u001B[43m        \u001B[49m\u001B[43mchunksize\u001B[49m\u001B[38;5;241;43m=\u001B[39;49m\u001B[43mchunksize\u001B[49m\u001B[43m,\u001B[49m\n\u001B[0;32m    741\u001B[0m \u001B[43m        \u001B[49m\u001B[43mdtype_backend\u001B[49m\u001B[38;5;241;43m=\u001B[39;49m\u001B[43mdtype_backend\u001B[49m\u001B[43m,\u001B[49m\n\u001B[0;32m    742\u001B[0m \u001B[43m        \u001B[49m\u001B[43mdtype\u001B[49m\u001B[38;5;241;43m=\u001B[39;49m\u001B[43mdtype\u001B[49m\u001B[43m,\u001B[49m\n\u001B[0;32m    743\u001B[0m \u001B[43m    \u001B[49m\u001B[43m)\u001B[49m\n",
      "File \u001B[1;32m~\\PycharmProjects\\Machine_Learning\\venv\\Lib\\site-packages\\pandas\\io\\sql.py:1836\u001B[0m, in \u001B[0;36mSQLDatabase.read_query\u001B[1;34m(self, sql, index_col, coerce_float, parse_dates, params, chunksize, dtype, dtype_backend)\u001B[0m\n\u001B[0;32m   1779\u001B[0m \u001B[38;5;28;01mdef\u001B[39;00m \u001B[38;5;21mread_query\u001B[39m(\n\u001B[0;32m   1780\u001B[0m     \u001B[38;5;28mself\u001B[39m,\n\u001B[0;32m   1781\u001B[0m     sql: \u001B[38;5;28mstr\u001B[39m,\n\u001B[1;32m   (...)\u001B[0m\n\u001B[0;32m   1788\u001B[0m     dtype_backend: DtypeBackend \u001B[38;5;241m|\u001B[39m Literal[\u001B[38;5;124m\"\u001B[39m\u001B[38;5;124mnumpy\u001B[39m\u001B[38;5;124m\"\u001B[39m] \u001B[38;5;241m=\u001B[39m \u001B[38;5;124m\"\u001B[39m\u001B[38;5;124mnumpy\u001B[39m\u001B[38;5;124m\"\u001B[39m,\n\u001B[0;32m   1789\u001B[0m ) \u001B[38;5;241m-\u001B[39m\u001B[38;5;241m>\u001B[39m DataFrame \u001B[38;5;241m|\u001B[39m Iterator[DataFrame]:\n\u001B[0;32m   1790\u001B[0m \u001B[38;5;250m    \u001B[39m\u001B[38;5;124;03m\"\"\"\u001B[39;00m\n\u001B[0;32m   1791\u001B[0m \u001B[38;5;124;03m    Read SQL query into a DataFrame.\u001B[39;00m\n\u001B[0;32m   1792\u001B[0m \n\u001B[1;32m   (...)\u001B[0m\n\u001B[0;32m   1834\u001B[0m \n\u001B[0;32m   1835\u001B[0m \u001B[38;5;124;03m    \"\"\"\u001B[39;00m\n\u001B[1;32m-> 1836\u001B[0m     result \u001B[38;5;241m=\u001B[39m \u001B[38;5;28;43mself\u001B[39;49m\u001B[38;5;241;43m.\u001B[39;49m\u001B[43mexecute\u001B[49m\u001B[43m(\u001B[49m\u001B[43msql\u001B[49m\u001B[43m,\u001B[49m\u001B[43m \u001B[49m\u001B[43mparams\u001B[49m\u001B[43m)\u001B[49m\n\u001B[0;32m   1837\u001B[0m     columns \u001B[38;5;241m=\u001B[39m result\u001B[38;5;241m.\u001B[39mkeys()\n\u001B[0;32m   1839\u001B[0m     \u001B[38;5;28;01mif\u001B[39;00m chunksize \u001B[38;5;129;01mis\u001B[39;00m \u001B[38;5;129;01mnot\u001B[39;00m \u001B[38;5;28;01mNone\u001B[39;00m:\n",
      "File \u001B[1;32m~\\PycharmProjects\\Machine_Learning\\venv\\Lib\\site-packages\\pandas\\io\\sql.py:1659\u001B[0m, in \u001B[0;36mSQLDatabase.execute\u001B[1;34m(self, sql, params)\u001B[0m\n\u001B[0;32m   1657\u001B[0m args \u001B[38;5;241m=\u001B[39m [] \u001B[38;5;28;01mif\u001B[39;00m params \u001B[38;5;129;01mis\u001B[39;00m \u001B[38;5;28;01mNone\u001B[39;00m \u001B[38;5;28;01melse\u001B[39;00m [params]\n\u001B[0;32m   1658\u001B[0m \u001B[38;5;28;01mif\u001B[39;00m \u001B[38;5;28misinstance\u001B[39m(sql, \u001B[38;5;28mstr\u001B[39m):\n\u001B[1;32m-> 1659\u001B[0m     \u001B[38;5;28;01mreturn\u001B[39;00m \u001B[38;5;28;43mself\u001B[39;49m\u001B[38;5;241;43m.\u001B[39;49m\u001B[43mcon\u001B[49m\u001B[38;5;241;43m.\u001B[39;49m\u001B[43mexec_driver_sql\u001B[49m\u001B[43m(\u001B[49m\u001B[43msql\u001B[49m\u001B[43m,\u001B[49m\u001B[43m \u001B[49m\u001B[38;5;241;43m*\u001B[39;49m\u001B[43margs\u001B[49m\u001B[43m)\u001B[49m\n\u001B[0;32m   1660\u001B[0m \u001B[38;5;28;01mreturn\u001B[39;00m \u001B[38;5;28mself\u001B[39m\u001B[38;5;241m.\u001B[39mcon\u001B[38;5;241m.\u001B[39mexecute(sql, \u001B[38;5;241m*\u001B[39margs)\n",
      "File \u001B[1;32m~\\PycharmProjects\\Machine_Learning\\venv\\Lib\\site-packages\\sqlalchemy\\engine\\base.py:1779\u001B[0m, in \u001B[0;36mConnection.exec_driver_sql\u001B[1;34m(self, statement, parameters, execution_options)\u001B[0m\n\u001B[0;32m   1774\u001B[0m execution_options \u001B[38;5;241m=\u001B[39m \u001B[38;5;28mself\u001B[39m\u001B[38;5;241m.\u001B[39m_execution_options\u001B[38;5;241m.\u001B[39mmerge_with(\n\u001B[0;32m   1775\u001B[0m     execution_options\n\u001B[0;32m   1776\u001B[0m )\n\u001B[0;32m   1778\u001B[0m dialect \u001B[38;5;241m=\u001B[39m \u001B[38;5;28mself\u001B[39m\u001B[38;5;241m.\u001B[39mdialect\n\u001B[1;32m-> 1779\u001B[0m ret \u001B[38;5;241m=\u001B[39m \u001B[38;5;28;43mself\u001B[39;49m\u001B[38;5;241;43m.\u001B[39;49m\u001B[43m_execute_context\u001B[49m\u001B[43m(\u001B[49m\n\u001B[0;32m   1780\u001B[0m \u001B[43m    \u001B[49m\u001B[43mdialect\u001B[49m\u001B[43m,\u001B[49m\n\u001B[0;32m   1781\u001B[0m \u001B[43m    \u001B[49m\u001B[43mdialect\u001B[49m\u001B[38;5;241;43m.\u001B[39;49m\u001B[43mexecution_ctx_cls\u001B[49m\u001B[38;5;241;43m.\u001B[39;49m\u001B[43m_init_statement\u001B[49m\u001B[43m,\u001B[49m\n\u001B[0;32m   1782\u001B[0m \u001B[43m    \u001B[49m\u001B[43mstatement\u001B[49m\u001B[43m,\u001B[49m\n\u001B[0;32m   1783\u001B[0m \u001B[43m    \u001B[49m\u001B[38;5;28;43;01mNone\u001B[39;49;00m\u001B[43m,\u001B[49m\n\u001B[0;32m   1784\u001B[0m \u001B[43m    \u001B[49m\u001B[43mexecution_options\u001B[49m\u001B[43m,\u001B[49m\n\u001B[0;32m   1785\u001B[0m \u001B[43m    \u001B[49m\u001B[43mstatement\u001B[49m\u001B[43m,\u001B[49m\n\u001B[0;32m   1786\u001B[0m \u001B[43m    \u001B[49m\u001B[43mdistilled_parameters\u001B[49m\u001B[43m,\u001B[49m\n\u001B[0;32m   1787\u001B[0m \u001B[43m\u001B[49m\u001B[43m)\u001B[49m\n\u001B[0;32m   1789\u001B[0m \u001B[38;5;28;01mreturn\u001B[39;00m ret\n",
      "File \u001B[1;32m~\\PycharmProjects\\Machine_Learning\\venv\\Lib\\site-packages\\sqlalchemy\\engine\\base.py:1846\u001B[0m, in \u001B[0;36mConnection._execute_context\u001B[1;34m(self, dialect, constructor, statement, parameters, execution_options, *args, **kw)\u001B[0m\n\u001B[0;32m   1844\u001B[0m     \u001B[38;5;28;01mreturn\u001B[39;00m \u001B[38;5;28mself\u001B[39m\u001B[38;5;241m.\u001B[39m_exec_insertmany_context(dialect, context)\n\u001B[0;32m   1845\u001B[0m \u001B[38;5;28;01melse\u001B[39;00m:\n\u001B[1;32m-> 1846\u001B[0m     \u001B[38;5;28;01mreturn\u001B[39;00m \u001B[38;5;28;43mself\u001B[39;49m\u001B[38;5;241;43m.\u001B[39;49m\u001B[43m_exec_single_context\u001B[49m\u001B[43m(\u001B[49m\n\u001B[0;32m   1847\u001B[0m \u001B[43m        \u001B[49m\u001B[43mdialect\u001B[49m\u001B[43m,\u001B[49m\u001B[43m \u001B[49m\u001B[43mcontext\u001B[49m\u001B[43m,\u001B[49m\u001B[43m \u001B[49m\u001B[43mstatement\u001B[49m\u001B[43m,\u001B[49m\u001B[43m \u001B[49m\u001B[43mparameters\u001B[49m\n\u001B[0;32m   1848\u001B[0m \u001B[43m    \u001B[49m\u001B[43m)\u001B[49m\n",
      "File \u001B[1;32m~\\PycharmProjects\\Machine_Learning\\venv\\Lib\\site-packages\\sqlalchemy\\engine\\base.py:1986\u001B[0m, in \u001B[0;36mConnection._exec_single_context\u001B[1;34m(self, dialect, context, statement, parameters)\u001B[0m\n\u001B[0;32m   1983\u001B[0m     result \u001B[38;5;241m=\u001B[39m context\u001B[38;5;241m.\u001B[39m_setup_result_proxy()\n\u001B[0;32m   1985\u001B[0m \u001B[38;5;28;01mexcept\u001B[39;00m \u001B[38;5;167;01mBaseException\u001B[39;00m \u001B[38;5;28;01mas\u001B[39;00m e:\n\u001B[1;32m-> 1986\u001B[0m     \u001B[38;5;28;43mself\u001B[39;49m\u001B[38;5;241;43m.\u001B[39;49m\u001B[43m_handle_dbapi_exception\u001B[49m\u001B[43m(\u001B[49m\n\u001B[0;32m   1987\u001B[0m \u001B[43m        \u001B[49m\u001B[43me\u001B[49m\u001B[43m,\u001B[49m\u001B[43m \u001B[49m\u001B[43mstr_statement\u001B[49m\u001B[43m,\u001B[49m\u001B[43m \u001B[49m\u001B[43meffective_parameters\u001B[49m\u001B[43m,\u001B[49m\u001B[43m \u001B[49m\u001B[43mcursor\u001B[49m\u001B[43m,\u001B[49m\u001B[43m \u001B[49m\u001B[43mcontext\u001B[49m\n\u001B[0;32m   1988\u001B[0m \u001B[43m    \u001B[49m\u001B[43m)\u001B[49m\n\u001B[0;32m   1990\u001B[0m \u001B[38;5;28;01mreturn\u001B[39;00m result\n",
      "File \u001B[1;32m~\\PycharmProjects\\Machine_Learning\\venv\\Lib\\site-packages\\sqlalchemy\\engine\\base.py:2353\u001B[0m, in \u001B[0;36mConnection._handle_dbapi_exception\u001B[1;34m(self, e, statement, parameters, cursor, context, is_sub_exec)\u001B[0m\n\u001B[0;32m   2351\u001B[0m \u001B[38;5;28;01melif\u001B[39;00m should_wrap:\n\u001B[0;32m   2352\u001B[0m     \u001B[38;5;28;01massert\u001B[39;00m sqlalchemy_exception \u001B[38;5;129;01mis\u001B[39;00m \u001B[38;5;129;01mnot\u001B[39;00m \u001B[38;5;28;01mNone\u001B[39;00m\n\u001B[1;32m-> 2353\u001B[0m     \u001B[38;5;28;01mraise\u001B[39;00m sqlalchemy_exception\u001B[38;5;241m.\u001B[39mwith_traceback(exc_info[\u001B[38;5;241m2\u001B[39m]) \u001B[38;5;28;01mfrom\u001B[39;00m \u001B[38;5;21;01me\u001B[39;00m\n\u001B[0;32m   2354\u001B[0m \u001B[38;5;28;01melse\u001B[39;00m:\n\u001B[0;32m   2355\u001B[0m     \u001B[38;5;28;01massert\u001B[39;00m exc_info[\u001B[38;5;241m1\u001B[39m] \u001B[38;5;129;01mis\u001B[39;00m \u001B[38;5;129;01mnot\u001B[39;00m \u001B[38;5;28;01mNone\u001B[39;00m\n",
      "File \u001B[1;32m~\\PycharmProjects\\Machine_Learning\\venv\\Lib\\site-packages\\sqlalchemy\\engine\\base.py:1967\u001B[0m, in \u001B[0;36mConnection._exec_single_context\u001B[1;34m(self, dialect, context, statement, parameters)\u001B[0m\n\u001B[0;32m   1965\u001B[0m                 \u001B[38;5;28;01mbreak\u001B[39;00m\n\u001B[0;32m   1966\u001B[0m     \u001B[38;5;28;01mif\u001B[39;00m \u001B[38;5;129;01mnot\u001B[39;00m evt_handled:\n\u001B[1;32m-> 1967\u001B[0m         \u001B[38;5;28;43mself\u001B[39;49m\u001B[38;5;241;43m.\u001B[39;49m\u001B[43mdialect\u001B[49m\u001B[38;5;241;43m.\u001B[39;49m\u001B[43mdo_execute\u001B[49m\u001B[43m(\u001B[49m\n\u001B[0;32m   1968\u001B[0m \u001B[43m            \u001B[49m\u001B[43mcursor\u001B[49m\u001B[43m,\u001B[49m\u001B[43m \u001B[49m\u001B[43mstr_statement\u001B[49m\u001B[43m,\u001B[49m\u001B[43m \u001B[49m\u001B[43meffective_parameters\u001B[49m\u001B[43m,\u001B[49m\u001B[43m \u001B[49m\u001B[43mcontext\u001B[49m\n\u001B[0;32m   1969\u001B[0m \u001B[43m        \u001B[49m\u001B[43m)\u001B[49m\n\u001B[0;32m   1971\u001B[0m \u001B[38;5;28;01mif\u001B[39;00m \u001B[38;5;28mself\u001B[39m\u001B[38;5;241m.\u001B[39m_has_events \u001B[38;5;129;01mor\u001B[39;00m \u001B[38;5;28mself\u001B[39m\u001B[38;5;241m.\u001B[39mengine\u001B[38;5;241m.\u001B[39m_has_events:\n\u001B[0;32m   1972\u001B[0m     \u001B[38;5;28mself\u001B[39m\u001B[38;5;241m.\u001B[39mdispatch\u001B[38;5;241m.\u001B[39mafter_cursor_execute(\n\u001B[0;32m   1973\u001B[0m         \u001B[38;5;28mself\u001B[39m,\n\u001B[0;32m   1974\u001B[0m         cursor,\n\u001B[1;32m   (...)\u001B[0m\n\u001B[0;32m   1978\u001B[0m         context\u001B[38;5;241m.\u001B[39mexecutemany,\n\u001B[0;32m   1979\u001B[0m     )\n",
      "File \u001B[1;32m~\\PycharmProjects\\Machine_Learning\\venv\\Lib\\site-packages\\sqlalchemy\\engine\\default.py:924\u001B[0m, in \u001B[0;36mDefaultDialect.do_execute\u001B[1;34m(self, cursor, statement, parameters, context)\u001B[0m\n\u001B[0;32m    923\u001B[0m \u001B[38;5;28;01mdef\u001B[39;00m \u001B[38;5;21mdo_execute\u001B[39m(\u001B[38;5;28mself\u001B[39m, cursor, statement, parameters, context\u001B[38;5;241m=\u001B[39m\u001B[38;5;28;01mNone\u001B[39;00m):\n\u001B[1;32m--> 924\u001B[0m     \u001B[43mcursor\u001B[49m\u001B[38;5;241;43m.\u001B[39;49m\u001B[43mexecute\u001B[49m\u001B[43m(\u001B[49m\u001B[43mstatement\u001B[49m\u001B[43m,\u001B[49m\u001B[43m \u001B[49m\u001B[43mparameters\u001B[49m\u001B[43m)\u001B[49m\n",
      "File \u001B[1;32m~\\PycharmProjects\\Machine_Learning\\venv\\Lib\\site-packages\\mysql\\connector\\cursor_cext.py:372\u001B[0m, in \u001B[0;36mCMySQLCursor.execute\u001B[1;34m(self, operation, params, multi)\u001B[0m\n\u001B[0;32m    367\u001B[0m             \u001B[38;5;28;01mraise\u001B[39;00m ProgrammingError(\n\u001B[0;32m    368\u001B[0m                 \u001B[38;5;124m\"\u001B[39m\u001B[38;5;124mNot all parameters were used in the SQL statement\u001B[39m\u001B[38;5;124m\"\u001B[39m\n\u001B[0;32m    369\u001B[0m             )\n\u001B[0;32m    371\u001B[0m \u001B[38;5;28;01mtry\u001B[39;00m:\n\u001B[1;32m--> 372\u001B[0m     result \u001B[38;5;241m=\u001B[39m \u001B[38;5;28;43mself\u001B[39;49m\u001B[38;5;241;43m.\u001B[39;49m\u001B[43m_cnx\u001B[49m\u001B[38;5;241;43m.\u001B[39;49m\u001B[43mcmd_query\u001B[49m\u001B[43m(\u001B[49m\n\u001B[0;32m    373\u001B[0m \u001B[43m        \u001B[49m\u001B[43mstmt\u001B[49m\u001B[43m,\u001B[49m\n\u001B[0;32m    374\u001B[0m \u001B[43m        \u001B[49m\u001B[43mraw\u001B[49m\u001B[38;5;241;43m=\u001B[39;49m\u001B[38;5;28;43mself\u001B[39;49m\u001B[38;5;241;43m.\u001B[39;49m\u001B[43m_raw\u001B[49m\u001B[43m,\u001B[49m\n\u001B[0;32m    375\u001B[0m \u001B[43m        \u001B[49m\u001B[43mbuffered\u001B[49m\u001B[38;5;241;43m=\u001B[39;49m\u001B[38;5;28;43mself\u001B[39;49m\u001B[38;5;241;43m.\u001B[39;49m\u001B[43m_buffered\u001B[49m\u001B[43m,\u001B[49m\n\u001B[0;32m    376\u001B[0m \u001B[43m        \u001B[49m\u001B[43mraw_as_string\u001B[49m\u001B[38;5;241;43m=\u001B[39;49m\u001B[38;5;28;43mself\u001B[39;49m\u001B[38;5;241;43m.\u001B[39;49m\u001B[43m_raw_as_string\u001B[49m\u001B[43m,\u001B[49m\n\u001B[0;32m    377\u001B[0m \u001B[43m    \u001B[49m\u001B[43m)\u001B[49m\n\u001B[0;32m    378\u001B[0m \u001B[38;5;28;01mexcept\u001B[39;00m MySQLInterfaceError \u001B[38;5;28;01mas\u001B[39;00m err:\n\u001B[0;32m    379\u001B[0m     \u001B[38;5;28;01mraise\u001B[39;00m get_mysql_exception(\n\u001B[0;32m    380\u001B[0m         msg\u001B[38;5;241m=\u001B[39merr\u001B[38;5;241m.\u001B[39mmsg, errno\u001B[38;5;241m=\u001B[39merr\u001B[38;5;241m.\u001B[39merrno, sqlstate\u001B[38;5;241m=\u001B[39merr\u001B[38;5;241m.\u001B[39msqlstate\n\u001B[0;32m    381\u001B[0m     ) \u001B[38;5;28;01mfrom\u001B[39;00m \u001B[38;5;21;01merr\u001B[39;00m\n",
      "File \u001B[1;32m~\\PycharmProjects\\Machine_Learning\\venv\\Lib\\site-packages\\mysql\\connector\\opentelemetry\\context_propagation.py:102\u001B[0m, in \u001B[0;36mwith_context_propagation.<locals>.wrapper\u001B[1;34m(cnx, *args, **kwargs)\u001B[0m\n\u001B[0;32m    100\u001B[0m \u001B[38;5;250m\u001B[39m\u001B[38;5;124;03m\"\"\"Context propagation decorator.\"\"\"\u001B[39;00m\n\u001B[0;32m    101\u001B[0m \u001B[38;5;28;01mif\u001B[39;00m \u001B[38;5;129;01mnot\u001B[39;00m OTEL_ENABLED \u001B[38;5;129;01mor\u001B[39;00m \u001B[38;5;129;01mnot\u001B[39;00m cnx\u001B[38;5;241m.\u001B[39motel_context_propagation:\n\u001B[1;32m--> 102\u001B[0m     \u001B[38;5;28;01mreturn\u001B[39;00m \u001B[43mmethod\u001B[49m\u001B[43m(\u001B[49m\u001B[43mcnx\u001B[49m\u001B[43m,\u001B[49m\u001B[43m \u001B[49m\u001B[38;5;241;43m*\u001B[39;49m\u001B[43margs\u001B[49m\u001B[43m,\u001B[49m\u001B[43m \u001B[49m\u001B[38;5;241;43m*\u001B[39;49m\u001B[38;5;241;43m*\u001B[39;49m\u001B[43mkwargs\u001B[49m\u001B[43m)\u001B[49m\n\u001B[0;32m    104\u001B[0m current_span \u001B[38;5;241m=\u001B[39m trace\u001B[38;5;241m.\u001B[39mget_current_span()\n\u001B[0;32m    105\u001B[0m tp_header \u001B[38;5;241m=\u001B[39m \u001B[38;5;28;01mNone\u001B[39;00m\n",
      "File \u001B[1;32m~\\PycharmProjects\\Machine_Learning\\venv\\Lib\\site-packages\\mysql\\connector\\connection_cext.py:705\u001B[0m, in \u001B[0;36mCMySQLConnection.cmd_query\u001B[1;34m(self, query, raw, buffered, raw_as_string)\u001B[0m\n\u001B[0;32m    697\u001B[0m     \u001B[38;5;28mself\u001B[39m\u001B[38;5;241m.\u001B[39m_cmysql\u001B[38;5;241m.\u001B[39mquery(\n\u001B[0;32m    698\u001B[0m         query,\n\u001B[0;32m    699\u001B[0m         raw\u001B[38;5;241m=\u001B[39mraw,\n\u001B[1;32m   (...)\u001B[0m\n\u001B[0;32m    702\u001B[0m         query_attrs\u001B[38;5;241m=\u001B[39m\u001B[38;5;28mself\u001B[39m\u001B[38;5;241m.\u001B[39mquery_attrs,\n\u001B[0;32m    703\u001B[0m     )\n\u001B[0;32m    704\u001B[0m \u001B[38;5;28;01mexcept\u001B[39;00m MySQLInterfaceError \u001B[38;5;28;01mas\u001B[39;00m err:\n\u001B[1;32m--> 705\u001B[0m     \u001B[38;5;28;01mraise\u001B[39;00m get_mysql_exception(\n\u001B[0;32m    706\u001B[0m         err\u001B[38;5;241m.\u001B[39merrno, msg\u001B[38;5;241m=\u001B[39merr\u001B[38;5;241m.\u001B[39mmsg, sqlstate\u001B[38;5;241m=\u001B[39merr\u001B[38;5;241m.\u001B[39msqlstate\n\u001B[0;32m    707\u001B[0m     ) \u001B[38;5;28;01mfrom\u001B[39;00m \u001B[38;5;21;01merr\u001B[39;00m\n\u001B[0;32m    708\u001B[0m \u001B[38;5;28;01mexcept\u001B[39;00m \u001B[38;5;167;01mAttributeError\u001B[39;00m \u001B[38;5;28;01mas\u001B[39;00m err:\n\u001B[0;32m    709\u001B[0m     addr \u001B[38;5;241m=\u001B[39m (\n\u001B[0;32m    710\u001B[0m         \u001B[38;5;28mself\u001B[39m\u001B[38;5;241m.\u001B[39m_unix_socket \u001B[38;5;28;01mif\u001B[39;00m \u001B[38;5;28mself\u001B[39m\u001B[38;5;241m.\u001B[39m_unix_socket \u001B[38;5;28;01melse\u001B[39;00m \u001B[38;5;124mf\u001B[39m\u001B[38;5;124m\"\u001B[39m\u001B[38;5;132;01m{\u001B[39;00m\u001B[38;5;28mself\u001B[39m\u001B[38;5;241m.\u001B[39m_host\u001B[38;5;132;01m}\u001B[39;00m\u001B[38;5;124m:\u001B[39m\u001B[38;5;132;01m{\u001B[39;00m\u001B[38;5;28mself\u001B[39m\u001B[38;5;241m.\u001B[39m_port\u001B[38;5;132;01m}\u001B[39;00m\u001B[38;5;124m\"\u001B[39m\n\u001B[0;32m    711\u001B[0m     )\n",
      "\u001B[1;31mProgrammingError\u001B[0m: (mysql.connector.errors.ProgrammingError) 1054 (42S22): Unknown column 'LapTimeFP1' in 'field list'\n[SQL: \n    SELECT\n        IFNULL(LapTimeFP1, 0) AS LapTimeFP1,\n        IFNULL(CompoundFP1, 0) AS CompoundFP1,\n        IFNULL(AirTempFP1, 0) AS AirTempFP1,\n        IFNULL(RainfallFP1, 0) AS RainfallFP1,\n        IFNULL(TrackTempFP1, 0) AS TrackTempFP1,\n        CASE WHEN isnull(LapTimeFP1) THEN 1 ELSE 0 END AS FP1_Missing_Flag,\n        IFNULL(LapTimeFP2, 0) AS LapTimeFP2,\n        IFNULL(CompoundFP2, 0) AS CompoundFP2,\n        IFNULL(AirTempFP2, 0) AS AirTempFP2,\n        IFNULL(RainfallFP2, 0) AS RainfallFP2,\n        IFNULL(TrackTempFP2, 0) AS TrackTempFP2,\n        CASE WHEN year <= 2022 THEN CASE WHEN isnull(LapTimeFP2) THEN 1 ELSE 0 END ELSE 0 END FP2_Missing_Flag,\n        IFNULL(LapTimeFP3, 0) AS LapTimeFP3,\n        IFNULL(CompoundFP3, 0) AS CompoundFP3,\n        IFNULL(AirTempFP3, 0) AS AirTempFP3,\n        IFNULL(RainfallFP3, 0) AS RainfallFP3,\n        IFNULL(TrackTempFP3, 0) AS TrackTempFP3,\n        0 AS FP3_Missing_Flag,\n        LapTimeQ,\n        AirTempQ,\n        RainfallQ,\n        sprint_flag as is_sprint,\n        traction,\n        tyre_stress,\n        asphalt_grip,\n        braking,\n        asphalt_abrasion,\n        lateral_force,\n        track_evolution,\n        downforce\n    FROM cleaned_session_data\n    where sprint_flag = 1 and\n    LapTimeQ is not NULL and\n    event_cd = 18 and year = 2024\n    UNION ALL\n    SELECT\n        IFNULL(LapTimeFP1, 0) AS LapTimeFP1,\n        IFNULL(CompoundFP1, 0) AS CompoundFP1,\n        IFNULL(AirTempFP1, 0) AS AirTempFP1,\n        IFNULL(RainfallFP1, 0) AS RainfallFP1,\n        IFNULL(TrackTempFP1, 0) AS TrackTempFP1,\n        CASE WHEN isnull(LapTimeFP1) THEN 1 ELSE 0 END AS FP1_Missing_Flag,\n        IFNULL(LapTimeFP2, 0) AS LapTimeFP2,\n        IFNULL(CompoundFP2, 0) AS CompoundFP2,\n        IFNULL(AirTempFP2, 0) AS AirTempFP2,\n        IFNULL(RainfallFP2, 0) AS RainfallFP2,\n        IFNULL(TrackTempFP2, 0) AS TrackTempFP2,\n        CASE WHEN isnull(LapTimeFP2) THEN 1 ELSE 0 END AS FP2_Missing_Flag,\n        IFNULL(LapTimeFP3, 0) AS LapTimeFP3,\n        IFNULL(CompoundFP3, 0) AS CompoundFP3,\n        IFNULL(AirTempFP3, 0) AS AirTempFP3,\n        IFNULL(RainfallFP3, 0) AS RainfallFP3,\n        IFNULL(TrackTempFP3, 0) AS TrackTempFP3,\n        CASE WHEN isnull(LapTimeFP3) THEN 1 ELSE 0 END AS FP3_Missing_Flag,\n        LapTimeQ,\n        AirTempQ,\n        RainfallQ,\n        sprint_flag as is_sprint,\n        traction,\n        tyre_stress,\n        asphalt_grip,\n        braking,\n        asphalt_abrasion,\n        lateral_force,\n        track_evolution,\n        downforce\n    FROM cleaned_session_data\n    where sprint_flag = 0 and\n    LapTimeQ is not NULL and\n    concat(year, event_cd) != 202418\n    ]\n(Background on this error at: https://sqlalche.me/e/20/f405)"
     ]
    }
   ],
   "execution_count": 5
  },
  {
   "cell_type": "markdown",
   "id": "17bc7b0e-ceca-4347-88f3-8e2d9e40f0c9",
   "metadata": {},
   "source": [
    "# Data Cleaning"
   ]
  },
  {
   "cell_type": "code",
   "id": "3ea3be2b-d618-4f49-8522-3377ac543fb9",
   "metadata": {},
   "source": [
    "lap_data = lap_data.astype(float)"
   ],
   "outputs": [],
   "execution_count": null
  },
  {
   "cell_type": "code",
   "id": "7bcb93a8-e8b2-43c0-af8a-0b3d9de82c45",
   "metadata": {},
   "source": [
    "lap_data.count()"
   ],
   "outputs": [],
   "execution_count": null
  },
  {
   "cell_type": "code",
   "id": "1f3531fa-48a7-4419-8d2c-3e1f3a6d3dd9",
   "metadata": {},
   "source": [
    "lap_data.head()"
   ],
   "outputs": [],
   "execution_count": null
  },
  {
   "cell_type": "code",
   "id": "179808be-40d1-4fba-adfd-dd8aabc5c068",
   "metadata": {},
   "source": [
    "lap_data.isna().sum()"
   ],
   "outputs": [],
   "execution_count": null
  },
  {
   "cell_type": "markdown",
   "id": "53c3f781-723e-4750-8711-2c0e7841530c",
   "metadata": {},
   "source": [
    "### Test Train Split (80 - 20)"
   ]
  },
  {
   "cell_type": "code",
   "id": "fea364c0-3a46-41af-b12c-7f24980ffc35",
   "metadata": {},
   "source": [
    "train_data = lap_data.sample(frac=0.8, random_state=0)\n",
    "test_data = lap_data.drop(train_data.index)"
   ],
   "outputs": [],
   "execution_count": null
  },
  {
   "cell_type": "markdown",
   "id": "e03a58b8-1d59-4e83-98d4-78f6ea8ff905",
   "metadata": {},
   "source": [
    "# Data Exploration"
   ]
  },
  {
   "cell_type": "code",
   "id": "91de0d09-08a0-4ce9-96b9-015df5f9328d",
   "metadata": {},
   "source": [
    "sns.pairplot(train_data[['LapTimeFP1', 'LapTimeFP2', 'LapTimeFP3', 'LapTimeQ']], diag_kind='kde')"
   ],
   "outputs": [],
   "execution_count": null
  },
  {
   "cell_type": "code",
   "id": "287ec33d-543d-4093-85b3-7db63fd9aeb6",
   "metadata": {},
   "source": [
    "train_data.describe().transpose()"
   ],
   "outputs": [],
   "execution_count": null
  },
  {
   "cell_type": "markdown",
   "id": "1eeb99ef-1773-43c6-8040-4b6dafb5cf55",
   "metadata": {},
   "source": [
    "# Model Prep"
   ]
  },
  {
   "cell_type": "code",
   "id": "342774e0-85c0-49b3-9934-d5bc5644638d",
   "metadata": {},
   "source": [
    "train_features = train_data.copy()\n",
    "test_features = test_data.copy()\n",
    "\n",
    "train_labels = train_features.pop('LapTimeQ')\n",
    "test_labels = test_features.pop('LapTimeQ')"
   ],
   "outputs": [],
   "execution_count": null
  },
  {
   "cell_type": "markdown",
   "id": "f745728c-9fd9-499d-abbb-69926070dcf2",
   "metadata": {},
   "source": [
    "### Normalization"
   ]
  },
  {
   "cell_type": "code",
   "id": "53becf47-1a77-4c92-8ebb-97a0565eeaef",
   "metadata": {},
   "source": [
    "normalizer = tf.keras.layers.Normalization(axis=-1)"
   ],
   "outputs": [],
   "execution_count": null
  },
  {
   "cell_type": "code",
   "id": "d38fea7a-9367-4885-8d5f-e62bdc0900cc",
   "metadata": {},
   "source": [
    "normalizer.adapt(np.array(train_features))"
   ],
   "outputs": [],
   "execution_count": null
  },
  {
   "cell_type": "code",
   "id": "8f75c613-f974-4263-ad11-06bc37bf2d9b",
   "metadata": {},
   "source": [
    "normalizer.mean.numpy()"
   ],
   "outputs": [],
   "execution_count": null
  },
  {
   "cell_type": "markdown",
   "id": "09ea564a-3332-4a87-b3e5-76e4db393b5d",
   "metadata": {},
   "source": [
    "# DNN Model"
   ]
  },
  {
   "cell_type": "code",
   "id": "69eb4f90-dc38-4bce-bf48-24b2bb6be267",
   "metadata": {},
   "source": [
    "def build_and_compile_model(norm):\n",
    "  model = keras.Sequential([\n",
    "      norm,\n",
    "      layers.Dense(32, activation='relu'),\n",
    "      layers.Dense(16, activation='relu'),\n",
    "      layers.Dense(1)\n",
    "  ])\n",
    "\n",
    "  model.compile(loss='mean_absolute_error',\n",
    "                optimizer=tf.keras.optimizers.Adam(0.001))\n",
    "  return model"
   ],
   "outputs": [],
   "execution_count": null
  },
  {
   "cell_type": "code",
   "id": "0143360c-97e3-4e1d-8619-6069d05eeb20",
   "metadata": {},
   "source": [
    "dnn_model = build_and_compile_model(normalizer)\n",
    "dnn_model.summary()\n",
    "\n",
    "type(dnn_model)"
   ],
   "outputs": [],
   "execution_count": null
  },
  {
   "cell_type": "code",
   "id": "13a3d426-fcf2-4bdf-a15a-1c19ec0d666f",
   "metadata": {},
   "source": [
    "%%time\n",
    "history = dnn_model.fit(\n",
    "    train_features,\n",
    "    train_labels,\n",
    "    validation_split=0.1,\n",
    "    verbose=0, epochs=1000)"
   ],
   "outputs": [],
   "execution_count": null
  },
  {
   "cell_type": "code",
   "id": "aeff7289-b040-4739-ac53-b8aef06872ac",
   "metadata": {},
   "source": [
    "plt.plot(history.history['loss'], label='loss')\n",
    "plt.plot(history.history['val_loss'], label='val_loss')\n",
    "plt.ylim([0, 10])\n",
    "plt.xlabel('Epoch')\n",
    "plt.ylabel('Error [LapTimeQ]')\n",
    "plt.legend()\n",
    "plt.grid(True)"
   ],
   "outputs": [],
   "execution_count": null
  },
  {
   "cell_type": "code",
   "id": "3fd69dc6-a2bb-4591-9d4b-b2bebcd78351",
   "metadata": {},
   "source": [
    "dnn_model.summary()"
   ],
   "outputs": [],
   "execution_count": null
  },
  {
   "cell_type": "markdown",
   "id": "fefcb629-e15e-4ca2-bf71-ad07e7689f52",
   "metadata": {},
   "source": [
    "### Save Results"
   ]
  },
  {
   "cell_type": "code",
   "id": "0fafb09b-4b5e-4cfc-8f2e-ddd6c86f3ce9",
   "metadata": {},
   "source": [
    "test_results = pd.DataFrame()\n",
    "\n",
    "test_results['dnn_model'] = dnn_model.evaluate(test_features, test_labels, verbose=0)"
   ],
   "outputs": [],
   "execution_count": null
  },
  {
   "cell_type": "code",
   "id": "3dfcabd9-d1ff-4554-8e6b-879f9624fc6a",
   "metadata": {},
   "source": [
    "test_results.to_csv('dnn_model.csv')"
   ],
   "outputs": [],
   "execution_count": null
  },
  {
   "cell_type": "code",
   "id": "df6e8152-4cc0-4d5f-90bf-ac7f38a2880b",
   "metadata": {},
   "source": [
    "dnn_model.save('dnn_model.keras')"
   ],
   "outputs": [],
   "execution_count": null
  },
  {
   "cell_type": "markdown",
   "id": "02e2f2e4-2c30-4b19-9257-17757326ba9c",
   "metadata": {},
   "source": [
    "### Evaluation"
   ]
  },
  {
   "cell_type": "code",
   "id": "970c8bfa-c9f6-4271-85af-15835494ab5f",
   "metadata": {},
   "source": [
    "test_predictions = dnn_model.predict(test_features).flatten()\n",
    "\n",
    "a = plt.axes(aspect='equal')\n",
    "plt.scatter(test_labels, test_predictions)\n",
    "plt.xlabel('True Values [LapTimeQ]')\n",
    "plt.ylabel('Predictions [LapTimeQ]')\n",
    "lims = [0, 150]\n",
    "plt.xlim(lims)\n",
    "plt.ylim(lims)\n",
    "_ = plt.plot(lims, lims)"
   ],
   "outputs": [],
   "execution_count": null
  },
  {
   "cell_type": "code",
   "id": "f4b996ba-37af-40fb-a434-9542054ebba4",
   "metadata": {},
   "source": [
    "error = test_predictions - test_labels\n",
    "plt.hist(error, bins=25)\n",
    "plt.xlabel('Prediction Error [LapTimeQ]')\n",
    "_ = plt.ylabel('Count')"
   ],
   "outputs": [],
   "execution_count": null
  },
  {
   "cell_type": "code",
   "id": "42be0f98-6491-43d6-b939-bbd452bba313",
   "metadata": {},
   "source": [
    "lap_data_test = con.run_query(query='''\n",
    "    SELECT\n",
    "        DriverNumber,\n",
    "        IFNULL(LapTimeFP1, 0) AS LapTimeFP1,\n",
    "        IFNULL(CompoundFP1, 0) AS CompoundFP1,\n",
    "        IFNULL(AirTempFP1, 0) AS AirTempFP1,\n",
    "        IFNULL(RainfallFP1, 0) AS RainfallFP1,\n",
    "        IFNULL(TrackTempFP1, 0) AS TrackTempFP1,\n",
    "        CASE WHEN isnull(LapTimeFP1) THEN 1 ELSE 0 END AS FP1_Missing_Flag,\n",
    "        IFNULL(LapTimeFP2, 0) AS LapTimeFP2,\n",
    "        IFNULL(CompoundFP2, 0) AS CompoundFP2,\n",
    "        IFNULL(AirTempFP2, 0) AS AirTempFP2,\n",
    "        IFNULL(RainfallFP2, 0) AS RainfallFP2,\n",
    "        IFNULL(TrackTempFP2, 0) AS TrackTempFP2,\n",
    "        CASE WHEN isnull(LapTimeFP2) THEN 1 ELSE 0 END AS FP2_Missing_Flag,\n",
    "        IFNULL(LapTimeFP3, 0) AS LapTimeFP3,\n",
    "        IFNULL(CompoundFP3, 0) AS CompoundFP3,\n",
    "        IFNULL(AirTempFP3, 0) AS AirTempFP3,\n",
    "        IFNULL(RainfallFP3, 0) AS RainfallFP3,\n",
    "        IFNULL(TrackTempFP3, 0) AS TrackTempFP3,\n",
    "        CASE WHEN isnull(LapTimeFP3) THEN 1 ELSE 0 END AS FP3_Missing_Flag,\n",
    "        LapTimeQ,\n",
    "        AirTempQ,\n",
    "        RainfallQ,\n",
    "        sprint_flag as is_sprint,\n",
    "        traction,\n",
    "        tyre_stress,\n",
    "        asphalt_grip,\n",
    "        braking,\n",
    "        asphalt_abrasion,\n",
    "        lateral_force,\n",
    "        track_evolution,\n",
    "        downforce\n",
    "    FROM ml_project_prod.cleaned_session_data\n",
    "    WHERE\n",
    "\tevent_cd = 18 and\n",
    "    year = 2024\n",
    "    ''')\n",
    "\n",
    "con.close_connection()"
   ],
   "outputs": [],
   "execution_count": null
  },
  {
   "cell_type": "code",
   "id": "e19279a0-1a5f-473e-ae3a-597b3e846fb0",
   "metadata": {},
   "source": [
    "test_features_actual = lap_data_test.copy()\n",
    "test_labels_actual = test_features_actual[['LapTimeQ', 'DriverNumber']]\n",
    "test_features_actual.pop('LapTimeQ')"
   ],
   "outputs": [],
   "execution_count": null
  },
  {
   "cell_type": "code",
   "id": "456cb0cc-9cea-4525-854c-f2bb3e4d86ff",
   "metadata": {},
   "source": [
    "predict_df = pd.DataFrame()\n",
    "for i in range(len(test_features_actual)):\n",
    "    vals = pd.DataFrame()\n",
    "    temp = test_features_actual.iloc[i].to_frame().transpose()\n",
    "    temp = temp.astype(float)\n",
    "    predicted_time = dnn_model.predict(temp.drop(['DriverNumber'], axis = 1)).flatten()\n",
    "    vals['DriverNumber'] = temp['DriverNumber']\n",
    "    vals['predicted_time'] = predicted_time\n",
    "    predict_df = pd.concat([predict_df, vals])"
   ],
   "outputs": [],
   "execution_count": null
  },
  {
   "cell_type": "code",
   "id": "dca7e9ee-2f5d-4c7d-98c3-22967204286e",
   "metadata": {},
   "source": [
    "predict_df = predict_df.sort_values('predicted_time')\n",
    "predict_df['Predicted_POS'] = predict_df['predicted_time'].rank(method='first')"
   ],
   "outputs": [],
   "execution_count": null
  },
  {
   "cell_type": "code",
   "id": "7c587499-4e06-499b-9262-c1563f80443b",
   "metadata": {},
   "source": [
    "test_labels_actual = test_labels_actual.sort_values('LapTimeQ')\n",
    "test_labels_actual['actual_POS'] = test_labels_actual['LapTimeQ'].rank(method='first')"
   ],
   "outputs": [],
   "execution_count": null
  },
  {
   "cell_type": "code",
   "id": "46c20260-138d-48f0-80c0-da4c74ed301e",
   "metadata": {},
   "source": [
    "final_df = pd.merge(test_labels_actual, predict_df, on='DriverNumber')"
   ],
   "outputs": [],
   "execution_count": null
  },
  {
   "cell_type": "code",
   "id": "5d22a44a-2ddf-4abc-9f81-22d7ff98a139",
   "metadata": {},
   "source": [
    "final_df['Laptime_dif'] = final_df['LapTimeQ'] - final_df['predicted_time']"
   ],
   "outputs": [],
   "execution_count": null
  },
  {
   "cell_type": "code",
   "id": "dc168031-dd81-4447-a22b-300ccd078988",
   "metadata": {},
   "source": [
    "final_df['POS_dif'] = final_df['actual_POS'] - final_df['Predicted_POS']"
   ],
   "outputs": [],
   "execution_count": null
  },
  {
   "cell_type": "code",
   "id": "0fef58b3-103c-4d87-b5ae-5c4c60c19fe6",
   "metadata": {},
   "source": [
    "final_df"
   ],
   "outputs": [],
   "execution_count": null
  },
  {
   "cell_type": "code",
   "id": "9febde24-b4ca-4eed-a180-9fab9d19dec3",
   "metadata": {},
   "source": [
    "a = plt.axes(aspect='equal')asd\n",
    "plt.scatter(final_df['LapTimeQ'], final_df['predicted_time'])\n",
    "plt.xlabel('True Values [LapTimeQ]')\n",
    "plt.ylabel('Predictions [predicted_time]')\n",
    "lims = [0, 150]\n",
    "plt.xlim(lims)\n",
    "plt.ylim(lims)\n",
    "_ = plt.plot(lims, lims)"
   ],
   "outputs": [],
   "execution_count": null
  },
  {
   "cell_type": "code",
   "id": "b1a52ac8-5fb5-471d-9c43-c8b9f06f2234",
   "metadata": {},
   "source": [
    "a = plt.axes(aspect='equal')\n",
    "plt.scatter(final_df['actual_POS'], final_df['Predicted_POS'])\n",
    "plt.xlabel('True Values [POS]')\n",
    "plt.ylabel('Predictions [POS]')\n",
    "lims = [0, 20]\n",
    "plt.xlim(lims)\n",
    "plt.ylim(lims)\n",
    "_ = plt.plot(lims, lims)"
   ],
   "outputs": [],
   "execution_count": null
  },
  {
   "cell_type": "code",
   "id": "ae80663d-0e81-4995-ae54-142178956df6",
   "metadata": {},
   "source": [
    "error = final_df['actual_POS'] - final_df['Predicted_POS']\n",
    "plt.hist(error, bins=25)\n",
    "plt.xlabel('Prediction Error [LapTimeQ]')\n",
    "_ = plt.ylabel('Count')"
   ],
   "outputs": [],
   "execution_count": null
  },
  {
   "cell_type": "code",
   "id": "8493f6a5-ae6f-46e1-aa9d-be2e79d8f99d",
   "metadata": {},
   "source": [
    "error = final_df['LapTimeQ'] - final_df['predicted_time']\n",
    "plt.hist(error, bins=25)\n",
    "plt.xlabel('Prediction Error [LapTimeQ]')\n",
    "_ = plt.ylabel('Count')"
   ],
   "outputs": [],
   "execution_count": null
  }
 ],
 "metadata": {
  "kernelspec": {
   "display_name": "Python 3 (ipykernel)",
   "language": "python",
   "name": "python3"
  },
  "language_info": {
   "codemirror_mode": {
    "name": "ipython",
    "version": 3
   },
   "file_extension": ".py",
   "mimetype": "text/x-python",
   "name": "python",
   "nbconvert_exporter": "python",
   "pygments_lexer": "ipython3",
   "version": "3.11.1"
  }
 },
 "nbformat": 4,
 "nbformat_minor": 5
}
